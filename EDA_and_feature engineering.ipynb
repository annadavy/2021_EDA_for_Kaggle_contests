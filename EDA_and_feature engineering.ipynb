{
 "cells": [
  {
   "cell_type": "markdown",
   "metadata": {},
   "source": [
    "# Catch me if you can\n",
    "\n",
    "__Intruder Detection through Webpage Session Tracking__\n",
    "\n",
    "https://www.kaggle.com/c/catch-me-if-you-can-intruder-detection-through-webpage-session-tracking2"
   ]
  },
  {
   "cell_type": "code",
   "execution_count": 3,
   "metadata": {},
   "outputs": [],
   "source": [
    "import pandas as pd\n",
    "import numpy as np\n",
    "import seaborn as sns\n",
    "import matplotlib.pyplot as plt\n",
    "import calendar\n",
    "np.warnings.filterwarnings('ignore')"
   ]
  },
  {
   "cell_type": "code",
   "execution_count": 4,
   "metadata": {},
   "outputs": [],
   "source": [
    "data=pd.read_csv('site10.csv') \n",
    "data=data.drop(['Unnamed: 0'],1)"
   ]
  },
  {
   "cell_type": "code",
   "execution_count": 3,
   "metadata": {},
   "outputs": [
    {
     "data": {
      "text/plain": [
       "Index(['session_id', 'site1', 'time1', 'site2', 'time2', 'site3', 'time3',\n",
       "       'site4', 'time4', 'site5', 'time5', 'site6', 'time6', 'site7', 'time7',\n",
       "       'site8', 'time8', 'site9', 'time9', 'site10', 'time10', 'target'],\n",
       "      dtype='object')"
      ]
     },
     "execution_count": 3,
     "metadata": {},
     "output_type": "execute_result"
    }
   ],
   "source": [
    "data.columns"
   ]
  },
  {
   "cell_type": "code",
   "execution_count": 4,
   "metadata": {},
   "outputs": [
    {
     "data": {
      "text/html": [
       "<div>\n",
       "<style scoped>\n",
       "    .dataframe tbody tr th:only-of-type {\n",
       "        vertical-align: middle;\n",
       "    }\n",
       "\n",
       "    .dataframe tbody tr th {\n",
       "        vertical-align: top;\n",
       "    }\n",
       "\n",
       "    .dataframe thead th {\n",
       "        text-align: right;\n",
       "    }\n",
       "</style>\n",
       "<table border=\"1\" class=\"dataframe\">\n",
       "  <thead>\n",
       "    <tr style=\"text-align: right;\">\n",
       "      <th></th>\n",
       "      <th>session_id</th>\n",
       "      <th>site1</th>\n",
       "      <th>time1</th>\n",
       "      <th>site2</th>\n",
       "      <th>time2</th>\n",
       "      <th>site3</th>\n",
       "      <th>time3</th>\n",
       "      <th>site4</th>\n",
       "      <th>time4</th>\n",
       "      <th>site5</th>\n",
       "      <th>...</th>\n",
       "      <th>time6</th>\n",
       "      <th>site7</th>\n",
       "      <th>time7</th>\n",
       "      <th>site8</th>\n",
       "      <th>time8</th>\n",
       "      <th>site9</th>\n",
       "      <th>time9</th>\n",
       "      <th>site10</th>\n",
       "      <th>time10</th>\n",
       "      <th>target</th>\n",
       "    </tr>\n",
       "  </thead>\n",
       "  <tbody>\n",
       "    <tr>\n",
       "      <th>115611</th>\n",
       "      <td>115612</td>\n",
       "      <td>people.directory.live.com</td>\n",
       "      <td>2014-03-31 16:40:20</td>\n",
       "      <td>dub128.mail.live.com</td>\n",
       "      <td>2014-03-31 16:40:20</td>\n",
       "      <td>h.live.com</td>\n",
       "      <td>2014-03-31 16:40:23</td>\n",
       "      <td>h.bing.com</td>\n",
       "      <td>2014-03-31 16:40:23</td>\n",
       "      <td>g.live.com</td>\n",
       "      <td>...</td>\n",
       "      <td>2014-03-31 16:40:27</td>\n",
       "      <td>dub128.mail.live.com</td>\n",
       "      <td>2014-03-31 16:40:27</td>\n",
       "      <td>cid-ed6c3e6a5c6608a4.users.storage.live.com</td>\n",
       "      <td>2014-03-31 16:40:27</td>\n",
       "      <td>storage.live.com</td>\n",
       "      <td>2014-03-31 16:40:28</td>\n",
       "      <td>login.live.com</td>\n",
       "      <td>2014-03-31 16:40:28</td>\n",
       "      <td>1</td>\n",
       "    </tr>\n",
       "    <tr>\n",
       "      <th>238042</th>\n",
       "      <td>238043</td>\n",
       "      <td>translate.google.com</td>\n",
       "      <td>2014-04-02 14:45:21</td>\n",
       "      <td>mail.google.com</td>\n",
       "      <td>2014-04-02 14:46:08</td>\n",
       "      <td>0.talkgadget.google.com</td>\n",
       "      <td>2014-04-02 14:46:16</td>\n",
       "      <td>translate.google.com</td>\n",
       "      <td>2014-04-02 14:46:54</td>\n",
       "      <td>inputtools.google.com</td>\n",
       "      <td>...</td>\n",
       "      <td>2014-04-02 14:46:55</td>\n",
       "      <td>translate.google.com</td>\n",
       "      <td>2014-04-02 14:46:56</td>\n",
       "      <td>translate.google.com</td>\n",
       "      <td>2014-04-02 14:46:57</td>\n",
       "      <td>translate.google.com</td>\n",
       "      <td>2014-04-02 14:47:01</td>\n",
       "      <td>translate.google.com</td>\n",
       "      <td>2014-04-02 14:47:02</td>\n",
       "      <td>0</td>\n",
       "    </tr>\n",
       "    <tr>\n",
       "      <th>111692</th>\n",
       "      <td>111693</td>\n",
       "      <td>www.googleapis.com</td>\n",
       "      <td>2014-04-25 11:27:27</td>\n",
       "      <td>safebrowsing.clients.google.com</td>\n",
       "      <td>2014-04-25 11:27:40</td>\n",
       "      <td>safebrowsing-cache.google.com</td>\n",
       "      <td>2014-04-25 11:27:40</td>\n",
       "      <td>safebrowsing-cache.google.com</td>\n",
       "      <td>2014-04-25 11:27:41</td>\n",
       "      <td>ajax.googleapis.com</td>\n",
       "      <td>...</td>\n",
       "      <td>2014-04-25 11:31:08</td>\n",
       "      <td>ent.univ-bpclermont.fr</td>\n",
       "      <td>2014-04-25 11:31:11</td>\n",
       "      <td>www.univ-bpclermont.fr</td>\n",
       "      <td>2014-04-25 11:31:12</td>\n",
       "      <td>claroline.univ-bpclermont.fr</td>\n",
       "      <td>2014-04-25 11:31:12</td>\n",
       "      <td>ent.univ-bpclermont.fr</td>\n",
       "      <td>2014-04-25 11:31:12</td>\n",
       "      <td>0</td>\n",
       "    </tr>\n",
       "    <tr>\n",
       "      <th>35731</th>\n",
       "      <td>35732</td>\n",
       "      <td>garpitmzn.blogspot.fr</td>\n",
       "      <td>2013-12-18 10:36:33</td>\n",
       "      <td>chart.googleapis.com</td>\n",
       "      <td>2013-12-18 10:36:33</td>\n",
       "      <td>www.blogger.com</td>\n",
       "      <td>2013-12-18 10:36:34</td>\n",
       "      <td>www.google.com</td>\n",
       "      <td>2013-12-18 10:36:34</td>\n",
       "      <td>www.blogger.com</td>\n",
       "      <td>...</td>\n",
       "      <td>2013-12-18 10:37:08</td>\n",
       "      <td>www.squid-cache.org</td>\n",
       "      <td>2013-12-18 10:37:17</td>\n",
       "      <td>www.google.fr</td>\n",
       "      <td>2013-12-18 10:37:30</td>\n",
       "      <td>www.blogger.com</td>\n",
       "      <td>2013-12-18 10:39:25</td>\n",
       "      <td>accounts.google.com</td>\n",
       "      <td>2013-12-18 10:39:27</td>\n",
       "      <td>0</td>\n",
       "    </tr>\n",
       "    <tr>\n",
       "      <th>52932</th>\n",
       "      <td>52933</td>\n",
       "      <td>apis.google.com</td>\n",
       "      <td>2014-02-27 11:15:48</td>\n",
       "      <td>www.blogger.com</td>\n",
       "      <td>2014-02-27 11:15:48</td>\n",
       "      <td>1.bp.blogspot.com</td>\n",
       "      <td>2014-02-27 11:15:48</td>\n",
       "      <td>2.bp.blogspot.com</td>\n",
       "      <td>2014-02-27 11:15:48</td>\n",
       "      <td>3.bp.blogspot.com</td>\n",
       "      <td>...</td>\n",
       "      <td>2014-02-27 11:15:48</td>\n",
       "      <td>4.bp.blogspot.com</td>\n",
       "      <td>2014-02-27 11:15:48</td>\n",
       "      <td>www.youtube.com</td>\n",
       "      <td>2014-02-27 11:15:50</td>\n",
       "      <td>i1.ytimg.com</td>\n",
       "      <td>2014-02-27 11:15:54</td>\n",
       "      <td>i1.ytimg.com</td>\n",
       "      <td>2014-02-27 11:15:55</td>\n",
       "      <td>0</td>\n",
       "    </tr>\n",
       "  </tbody>\n",
       "</table>\n",
       "<p>5 rows × 22 columns</p>\n",
       "</div>"
      ],
      "text/plain": [
       "        session_id                      site1                time1  \\\n",
       "115611      115612  people.directory.live.com  2014-03-31 16:40:20   \n",
       "238042      238043       translate.google.com  2014-04-02 14:45:21   \n",
       "111692      111693         www.googleapis.com  2014-04-25 11:27:27   \n",
       "35731        35732      garpitmzn.blogspot.fr  2013-12-18 10:36:33   \n",
       "52932        52933            apis.google.com  2014-02-27 11:15:48   \n",
       "\n",
       "                                  site2                time2  \\\n",
       "115611             dub128.mail.live.com  2014-03-31 16:40:20   \n",
       "238042                  mail.google.com  2014-04-02 14:46:08   \n",
       "111692  safebrowsing.clients.google.com  2014-04-25 11:27:40   \n",
       "35731              chart.googleapis.com  2013-12-18 10:36:33   \n",
       "52932                   www.blogger.com  2014-02-27 11:15:48   \n",
       "\n",
       "                                site3                time3  \\\n",
       "115611                     h.live.com  2014-03-31 16:40:23   \n",
       "238042        0.talkgadget.google.com  2014-04-02 14:46:16   \n",
       "111692  safebrowsing-cache.google.com  2014-04-25 11:27:40   \n",
       "35731                 www.blogger.com  2013-12-18 10:36:34   \n",
       "52932               1.bp.blogspot.com  2014-02-27 11:15:48   \n",
       "\n",
       "                                site4                time4  \\\n",
       "115611                     h.bing.com  2014-03-31 16:40:23   \n",
       "238042           translate.google.com  2014-04-02 14:46:54   \n",
       "111692  safebrowsing-cache.google.com  2014-04-25 11:27:41   \n",
       "35731                  www.google.com  2013-12-18 10:36:34   \n",
       "52932               2.bp.blogspot.com  2014-02-27 11:15:48   \n",
       "\n",
       "                        site5  ...                time6  \\\n",
       "115611             g.live.com  ...  2014-03-31 16:40:27   \n",
       "238042  inputtools.google.com  ...  2014-04-02 14:46:55   \n",
       "111692    ajax.googleapis.com  ...  2014-04-25 11:31:08   \n",
       "35731         www.blogger.com  ...  2013-12-18 10:37:08   \n",
       "52932       3.bp.blogspot.com  ...  2014-02-27 11:15:48   \n",
       "\n",
       "                         site7                time7  \\\n",
       "115611    dub128.mail.live.com  2014-03-31 16:40:27   \n",
       "238042    translate.google.com  2014-04-02 14:46:56   \n",
       "111692  ent.univ-bpclermont.fr  2014-04-25 11:31:11   \n",
       "35731      www.squid-cache.org  2013-12-18 10:37:17   \n",
       "52932        4.bp.blogspot.com  2014-02-27 11:15:48   \n",
       "\n",
       "                                              site8                time8  \\\n",
       "115611  cid-ed6c3e6a5c6608a4.users.storage.live.com  2014-03-31 16:40:27   \n",
       "238042                         translate.google.com  2014-04-02 14:46:57   \n",
       "111692                       www.univ-bpclermont.fr  2014-04-25 11:31:12   \n",
       "35731                                 www.google.fr  2013-12-18 10:37:30   \n",
       "52932                               www.youtube.com  2014-02-27 11:15:50   \n",
       "\n",
       "                               site9                time9  \\\n",
       "115611              storage.live.com  2014-03-31 16:40:28   \n",
       "238042          translate.google.com  2014-04-02 14:47:01   \n",
       "111692  claroline.univ-bpclermont.fr  2014-04-25 11:31:12   \n",
       "35731                www.blogger.com  2013-12-18 10:39:25   \n",
       "52932                   i1.ytimg.com  2014-02-27 11:15:54   \n",
       "\n",
       "                        site10               time10 target  \n",
       "115611          login.live.com  2014-03-31 16:40:28      1  \n",
       "238042    translate.google.com  2014-04-02 14:47:02      0  \n",
       "111692  ent.univ-bpclermont.fr  2014-04-25 11:31:12      0  \n",
       "35731      accounts.google.com  2013-12-18 10:39:27      0  \n",
       "52932             i1.ytimg.com  2014-02-27 11:15:55      0  \n",
       "\n",
       "[5 rows x 22 columns]"
      ]
     },
     "execution_count": 4,
     "metadata": {},
     "output_type": "execute_result"
    }
   ],
   "source": [
    "data.sample(5)"
   ]
  },
  {
   "cell_type": "code",
   "execution_count": 5,
   "metadata": {},
   "outputs": [
    {
     "data": {
      "text/plain": [
       "(253561, 22)"
      ]
     },
     "execution_count": 5,
     "metadata": {},
     "output_type": "execute_result"
    }
   ],
   "source": [
    "data.shape"
   ]
  },
  {
   "cell_type": "code",
   "execution_count": 6,
   "metadata": {},
   "outputs": [
    {
     "data": {
      "text/plain": [
       "0    251264\n",
       "1      2297\n",
       "Name: target, dtype: int64"
      ]
     },
     "execution_count": 6,
     "metadata": {},
     "output_type": "execute_result"
    }
   ],
   "source": [
    "data.target.value_counts()"
   ]
  },
  {
   "cell_type": "markdown",
   "metadata": {},
   "source": [
    "# Exploratory Data Analysis (EDA)"
   ]
  },
  {
   "cell_type": "code",
   "execution_count": 5,
   "metadata": {},
   "outputs": [],
   "source": [
    "data['time1']=data['time1'].astype('datetime64[ns]')"
   ]
  },
  {
   "cell_type": "code",
   "execution_count": 6,
   "metadata": {},
   "outputs": [],
   "source": [
    "session_start_hour = data['time1'].apply(lambda x: x.hour).values\n",
    "session_start_day = data['time1'].apply(lambda x: x.dayofweek).values\n",
    "session_start_month = data['time1'].apply(lambda x: x.month).values"
   ]
  },
  {
   "cell_type": "code",
   "execution_count": 9,
   "metadata": {},
   "outputs": [
    {
     "data": {
      "text/plain": [
       "Text(0.5, 0, 'Session start month')"
      ]
     },
     "execution_count": 9,
     "metadata": {},
     "output_type": "execute_result"
    },
    {
     "data": {
      "image/png": "[encoded data removed]",
      "text/plain": [
       "<Figure size 864x288 with 3 Axes>"
      ]
     },
     "metadata": {
      "needs_background": "light"
     },
     "output_type": "display_data"
    }
   ],
   "source": [
    "plt.subplots(1,3, figsize = (12, 4)) \n",
    "\n",
    "plt.subplot(1, 3, 1)\n",
    "sns.countplot(session_start_hour) \n",
    "plt.xlabel('Session start hour')\n",
    "          \n",
    "plt.subplot(1, 3, 2)\n",
    "sns.countplot(session_start_day)\n",
    "plt.xticks(np.arange(8),calendar.day_name[0:8],rotation=90)\n",
    "plt.xlabel('Session start day of week')\n",
    "\n",
    "plt.subplot(1, 3, 3)\n",
    "sns.countplot(session_start_month)\n",
    "plt.xticks(np.arange(12),calendar.month_name[1:13],rotation=90)\n",
    "plt.xlabel('Session start month')\n"
   ]
  },
  {
   "cell_type": "code",
   "execution_count": 7,
   "metadata": {},
   "outputs": [],
   "source": [
    "robot_session_start_hour=data['time1'][data['target']==1].apply(lambda x: x.hour).values\n",
    "robot_session_start_day=data['time1'][data['target']==1].apply(lambda x: x.dayofweek).values"
   ]
  },
  {
   "cell_type": "code",
   "execution_count": 8,
   "metadata": {},
   "outputs": [],
   "source": [
    "robot_session_start_month=data['time1'][data['target']==1].apply(lambda x: x.month)\n",
    "robot_session_start_month_vc=robot_session_start_month.value_counts()"
   ]
  },
  {
   "cell_type": "code",
   "execution_count": 9,
   "metadata": {},
   "outputs": [],
   "source": [
    "user_session_start_hour=data['time1'][data['target']==0].apply(lambda x: x.hour).values\n",
    "user_session_start_day=data['time1'][data['target']==0].apply(lambda x: x.dayofweek).values\n",
    "user_session_start_month=data['time1'][data['target']==0].apply(lambda x: x.month).values"
   ]
  },
  {
   "cell_type": "code",
   "execution_count": 13,
   "metadata": {},
   "outputs": [],
   "source": [
    "robot_months = pd.DataFrame(robot_session_start_month_vc.\\\n",
    "                         reindex(range(robot_session_start_month.min(),robot_session_start_month.max()+1), fill_value=0))\\\n",
    "                         .reset_index()"
   ]
  },
  {
   "cell_type": "code",
   "execution_count": 14,
   "metadata": {},
   "outputs": [
    {
     "data": {
      "image/png": "[encoded data removed]",
      "text/plain": [
       "<Figure size 1080x576 with 6 Axes>"
      ]
     },
     "metadata": {
      "needs_background": "light"
     },
     "output_type": "display_data"
    }
   ],
   "source": [
    "plt.subplots(2, 3, figsize = (15, 8)) \n",
    "\n",
    "plt.subplot(2, 3, 1)\n",
    "sns.countplot(robot_session_start_hour)\n",
    "plt.xlabel(\"Robot session start hour\")\n",
    "\n",
    "plt.subplot(2, 3, 2)\n",
    "sns.countplot(robot_session_start_day)\n",
    "plt.xticks(np.arange(8),calendar.day_name[0:8],rotation=90)\n",
    "plt.xlabel(\"Robot session start weekday\")\n",
    "\n",
    "plt.subplot(2, 3, 3)\n",
    "sns.barplot(x='index', y='time1', data=robot_months)\n",
    "plt.xticks(np.arange(12),calendar.month_name[1:13],rotation=90)\n",
    "plt.xlabel(\"Robot session start month\")\n",
    "          \n",
    "plt.subplot(2, 3, 4)\n",
    "sns.countplot(user_session_start_hour)\n",
    "plt.xlabel(\"User session start hour\")\n",
    "\n",
    "plt.subplot(2, 3, 5)\n",
    "sns.countplot(user_session_start_day)\n",
    "plt.xticks(np.arange(8),calendar.day_name[0:8],rotation=90)\n",
    "plt.xlabel(\"User session start weekday\")\n",
    "\n",
    "plt.subplot(2, 3, 6)\n",
    "sns.countplot(user_session_start_month)\n",
    "plt.xticks(np.arange(12),calendar.month_name[1:13],rotation=90)\n",
    "plt.xlabel(\"User session start month\")\n",
    "\n",
    "plt.subplots_adjust(hspace=0.5)"
   ]
  },
  {
   "cell_type": "code",
   "execution_count": 10,
   "metadata": {},
   "outputs": [],
   "source": [
    "times = ['time%s' % i for i in range(1, 11)]\n",
    "sites = ['site%s' % i for i in range(1, 11)]"
   ]
  },
  {
   "cell_type": "code",
   "execution_count": 11,
   "metadata": {},
   "outputs": [
    {
     "data": {
      "text/html": [
       "<div>\n",
       "<style scoped>\n",
       "    .dataframe tbody tr th:only-of-type {\n",
       "        vertical-align: middle;\n",
       "    }\n",
       "\n",
       "    .dataframe tbody tr th {\n",
       "        vertical-align: top;\n",
       "    }\n",
       "\n",
       "    .dataframe thead th {\n",
       "        text-align: right;\n",
       "    }\n",
       "</style>\n",
       "<table border=\"1\" class=\"dataframe\">\n",
       "  <thead>\n",
       "    <tr style=\"text-align: right;\">\n",
       "      <th></th>\n",
       "      <th>time1</th>\n",
       "      <th>time2</th>\n",
       "      <th>time3</th>\n",
       "      <th>time4</th>\n",
       "      <th>time5</th>\n",
       "      <th>time6</th>\n",
       "      <th>time7</th>\n",
       "      <th>time8</th>\n",
       "      <th>time9</th>\n",
       "      <th>time10</th>\n",
       "    </tr>\n",
       "  </thead>\n",
       "  <tbody>\n",
       "    <tr>\n",
       "      <th>0</th>\n",
       "      <td>2014-02-20 10:02:45</td>\n",
       "      <td>NaN</td>\n",
       "      <td>NaN</td>\n",
       "      <td>NaN</td>\n",
       "      <td>NaN</td>\n",
       "      <td>NaN</td>\n",
       "      <td>NaN</td>\n",
       "      <td>NaN</td>\n",
       "      <td>NaN</td>\n",
       "      <td>NaN</td>\n",
       "    </tr>\n",
       "    <tr>\n",
       "      <th>1</th>\n",
       "      <td>2014-02-22 11:19:50</td>\n",
       "      <td>2014-02-22 11:19:50</td>\n",
       "      <td>2014-02-22 11:19:51</td>\n",
       "      <td>2014-02-22 11:19:51</td>\n",
       "      <td>2014-02-22 11:19:51</td>\n",
       "      <td>2014-02-22 11:19:51</td>\n",
       "      <td>2014-02-22 11:19:52</td>\n",
       "      <td>2014-02-22 11:19:52</td>\n",
       "      <td>2014-02-22 11:20:15</td>\n",
       "      <td>2014-02-22 11:20:16</td>\n",
       "    </tr>\n",
       "    <tr>\n",
       "      <th>2</th>\n",
       "      <td>2013-12-16 16:40:17</td>\n",
       "      <td>2013-12-16 16:40:18</td>\n",
       "      <td>2013-12-16 16:40:19</td>\n",
       "      <td>2013-12-16 16:40:19</td>\n",
       "      <td>2013-12-16 16:40:19</td>\n",
       "      <td>2013-12-16 16:40:19</td>\n",
       "      <td>2013-12-16 16:40:20</td>\n",
       "      <td>2013-12-16 16:40:21</td>\n",
       "      <td>2013-12-16 16:40:22</td>\n",
       "      <td>2013-12-16 16:40:24</td>\n",
       "    </tr>\n",
       "    <tr>\n",
       "      <th>3</th>\n",
       "      <td>2014-03-28 10:52:12</td>\n",
       "      <td>2014-03-28 10:52:42</td>\n",
       "      <td>2014-03-28 10:53:12</td>\n",
       "      <td>2014-03-28 10:53:42</td>\n",
       "      <td>2014-03-28 10:54:12</td>\n",
       "      <td>2014-03-28 10:54:42</td>\n",
       "      <td>2014-03-28 10:55:12</td>\n",
       "      <td>2014-03-28 10:55:42</td>\n",
       "      <td>2014-03-28 10:56:12</td>\n",
       "      <td>2014-03-28 10:56:42</td>\n",
       "    </tr>\n",
       "    <tr>\n",
       "      <th>4</th>\n",
       "      <td>2014-02-28 10:53:05</td>\n",
       "      <td>2014-02-28 10:55:22</td>\n",
       "      <td>2014-02-28 10:55:22</td>\n",
       "      <td>2014-02-28 10:55:23</td>\n",
       "      <td>2014-02-28 10:55:23</td>\n",
       "      <td>2014-02-28 10:55:59</td>\n",
       "      <td>2014-02-28 10:55:59</td>\n",
       "      <td>2014-02-28 10:55:59</td>\n",
       "      <td>2014-02-28 10:57:06</td>\n",
       "      <td>2014-02-28 10:57:11</td>\n",
       "    </tr>\n",
       "    <tr>\n",
       "      <th>5</th>\n",
       "      <td>2014-03-18 15:18:31</td>\n",
       "      <td>2014-03-18 15:18:39</td>\n",
       "      <td>2014-03-18 15:23:02</td>\n",
       "      <td>2014-03-18 15:23:43</td>\n",
       "      <td>2014-03-18 15:29:57</td>\n",
       "      <td>NaN</td>\n",
       "      <td>NaN</td>\n",
       "      <td>NaN</td>\n",
       "      <td>NaN</td>\n",
       "      <td>NaN</td>\n",
       "    </tr>\n",
       "    <tr>\n",
       "      <th>6</th>\n",
       "      <td>2014-02-13 16:45:35</td>\n",
       "      <td>2014-02-13 16:45:35</td>\n",
       "      <td>2014-02-13 16:45:35</td>\n",
       "      <td>2014-02-13 16:45:35</td>\n",
       "      <td>2014-02-13 16:46:05</td>\n",
       "      <td>2014-02-13 16:47:14</td>\n",
       "      <td>2014-02-13 16:47:14</td>\n",
       "      <td>2014-02-13 16:47:15</td>\n",
       "      <td>2014-02-13 16:47:16</td>\n",
       "      <td>2014-02-13 16:47:17</td>\n",
       "    </tr>\n",
       "  </tbody>\n",
       "</table>\n",
       "</div>"
      ],
      "text/plain": [
       "                time1                time2                time3  \\\n",
       "0 2014-02-20 10:02:45                  NaN                  NaN   \n",
       "1 2014-02-22 11:19:50  2014-02-22 11:19:50  2014-02-22 11:19:51   \n",
       "2 2013-12-16 16:40:17  2013-12-16 16:40:18  2013-12-16 16:40:19   \n",
       "3 2014-03-28 10:52:12  2014-03-28 10:52:42  2014-03-28 10:53:12   \n",
       "4 2014-02-28 10:53:05  2014-02-28 10:55:22  2014-02-28 10:55:22   \n",
       "5 2014-03-18 15:18:31  2014-03-18 15:18:39  2014-03-18 15:23:02   \n",
       "6 2014-02-13 16:45:35  2014-02-13 16:45:35  2014-02-13 16:45:35   \n",
       "\n",
       "                 time4                time5                time6  \\\n",
       "0                  NaN                  NaN                  NaN   \n",
       "1  2014-02-22 11:19:51  2014-02-22 11:19:51  2014-02-22 11:19:51   \n",
       "2  2013-12-16 16:40:19  2013-12-16 16:40:19  2013-12-16 16:40:19   \n",
       "3  2014-03-28 10:53:42  2014-03-28 10:54:12  2014-03-28 10:54:42   \n",
       "4  2014-02-28 10:55:23  2014-02-28 10:55:23  2014-02-28 10:55:59   \n",
       "5  2014-03-18 15:23:43  2014-03-18 15:29:57                  NaN   \n",
       "6  2014-02-13 16:45:35  2014-02-13 16:46:05  2014-02-13 16:47:14   \n",
       "\n",
       "                 time7                time8                time9  \\\n",
       "0                  NaN                  NaN                  NaN   \n",
       "1  2014-02-22 11:19:52  2014-02-22 11:19:52  2014-02-22 11:20:15   \n",
       "2  2013-12-16 16:40:20  2013-12-16 16:40:21  2013-12-16 16:40:22   \n",
       "3  2014-03-28 10:55:12  2014-03-28 10:55:42  2014-03-28 10:56:12   \n",
       "4  2014-02-28 10:55:59  2014-02-28 10:55:59  2014-02-28 10:57:06   \n",
       "5                  NaN                  NaN                  NaN   \n",
       "6  2014-02-13 16:47:14  2014-02-13 16:47:15  2014-02-13 16:47:16   \n",
       "\n",
       "                time10  \n",
       "0                  NaN  \n",
       "1  2014-02-22 11:20:16  \n",
       "2  2013-12-16 16:40:24  \n",
       "3  2014-03-28 10:56:42  \n",
       "4  2014-02-28 10:57:11  \n",
       "5                  NaN  \n",
       "6  2014-02-13 16:47:17  "
      ]
     },
     "execution_count": 11,
     "metadata": {},
     "output_type": "execute_result"
    }
   ],
   "source": [
    "data_time  =  data[times] \n",
    "data_time.head(7)"
   ]
  },
  {
   "cell_type": "code",
   "execution_count": 12,
   "metadata": {},
   "outputs": [],
   "source": [
    "data_time=data_time.astype('datetime64[ns]')"
   ]
  },
  {
   "cell_type": "code",
   "execution_count": 13,
   "metadata": {},
   "outputs": [],
   "source": [
    "data_time_diff=pd.DataFrame()"
   ]
  },
  {
   "cell_type": "code",
   "execution_count": 14,
   "metadata": {},
   "outputs": [],
   "source": [
    "for i in range(1,data_time.shape[1]):\n",
    "   data_time_diff['interval'+str(i)]=(data_time['time'+str(i+1)]-data_time['time'+str(i)]).apply(lambda x: x.total_seconds())"
   ]
  },
  {
   "cell_type": "code",
   "execution_count": 66,
   "metadata": {},
   "outputs": [],
   "source": [
    "data_time_diff['target']=data['target']"
   ]
  },
  {
   "cell_type": "code",
   "execution_count": 83,
   "metadata": {},
   "outputs": [
    {
     "data": {
      "text/html": [
       "<div>\n",
       "<style scoped>\n",
       "    .dataframe tbody tr th:only-of-type {\n",
       "        vertical-align: middle;\n",
       "    }\n",
       "\n",
       "    .dataframe tbody tr th {\n",
       "        vertical-align: top;\n",
       "    }\n",
       "\n",
       "    .dataframe thead th {\n",
       "        text-align: right;\n",
       "    }\n",
       "</style>\n",
       "<table border=\"1\" class=\"dataframe\">\n",
       "  <thead>\n",
       "    <tr style=\"text-align: right;\">\n",
       "      <th></th>\n",
       "      <th>interval1</th>\n",
       "      <th>interval2</th>\n",
       "      <th>interval3</th>\n",
       "      <th>interval4</th>\n",
       "      <th>interval5</th>\n",
       "      <th>interval6</th>\n",
       "      <th>interval7</th>\n",
       "      <th>interval8</th>\n",
       "      <th>interval9</th>\n",
       "      <th>target</th>\n",
       "    </tr>\n",
       "  </thead>\n",
       "  <tbody>\n",
       "    <tr>\n",
       "      <th>34658</th>\n",
       "      <td>11.0</td>\n",
       "      <td>1.0</td>\n",
       "      <td>3.0</td>\n",
       "      <td>1.0</td>\n",
       "      <td>1.0</td>\n",
       "      <td>1.0</td>\n",
       "      <td>3.0</td>\n",
       "      <td>1.0</td>\n",
       "      <td>0.0</td>\n",
       "      <td>0</td>\n",
       "    </tr>\n",
       "    <tr>\n",
       "      <th>161040</th>\n",
       "      <td>0.0</td>\n",
       "      <td>0.0</td>\n",
       "      <td>1.0</td>\n",
       "      <td>0.0</td>\n",
       "      <td>3.0</td>\n",
       "      <td>6.0</td>\n",
       "      <td>1.0</td>\n",
       "      <td>1.0</td>\n",
       "      <td>1.0</td>\n",
       "      <td>0</td>\n",
       "    </tr>\n",
       "    <tr>\n",
       "      <th>87283</th>\n",
       "      <td>0.0</td>\n",
       "      <td>0.0</td>\n",
       "      <td>0.0</td>\n",
       "      <td>0.0</td>\n",
       "      <td>0.0</td>\n",
       "      <td>0.0</td>\n",
       "      <td>1.0</td>\n",
       "      <td>0.0</td>\n",
       "      <td>0.0</td>\n",
       "      <td>0</td>\n",
       "    </tr>\n",
       "    <tr>\n",
       "      <th>14321</th>\n",
       "      <td>0.0</td>\n",
       "      <td>1.0</td>\n",
       "      <td>0.0</td>\n",
       "      <td>0.0</td>\n",
       "      <td>2.0</td>\n",
       "      <td>0.0</td>\n",
       "      <td>1.0</td>\n",
       "      <td>0.0</td>\n",
       "      <td>0.0</td>\n",
       "      <td>0</td>\n",
       "    </tr>\n",
       "    <tr>\n",
       "      <th>70719</th>\n",
       "      <td>1.0</td>\n",
       "      <td>1.0</td>\n",
       "      <td>1.0</td>\n",
       "      <td>0.0</td>\n",
       "      <td>0.0</td>\n",
       "      <td>0.0</td>\n",
       "      <td>0.0</td>\n",
       "      <td>11.0</td>\n",
       "      <td>10.0</td>\n",
       "      <td>0</td>\n",
       "    </tr>\n",
       "    <tr>\n",
       "      <th>110665</th>\n",
       "      <td>0.0</td>\n",
       "      <td>0.0</td>\n",
       "      <td>1.0</td>\n",
       "      <td>0.0</td>\n",
       "      <td>2.0</td>\n",
       "      <td>0.0</td>\n",
       "      <td>8.0</td>\n",
       "      <td>0.0</td>\n",
       "      <td>73.0</td>\n",
       "      <td>0</td>\n",
       "    </tr>\n",
       "    <tr>\n",
       "      <th>212454</th>\n",
       "      <td>0.0</td>\n",
       "      <td>1.0</td>\n",
       "      <td>0.0</td>\n",
       "      <td>4.0</td>\n",
       "      <td>0.0</td>\n",
       "      <td>5.0</td>\n",
       "      <td>0.0</td>\n",
       "      <td>9.0</td>\n",
       "      <td>11.0</td>\n",
       "      <td>0</td>\n",
       "    </tr>\n",
       "    <tr>\n",
       "      <th>183862</th>\n",
       "      <td>2.0</td>\n",
       "      <td>2.0</td>\n",
       "      <td>1.0</td>\n",
       "      <td>0.0</td>\n",
       "      <td>1.0</td>\n",
       "      <td>1.0</td>\n",
       "      <td>1.0</td>\n",
       "      <td>3.0</td>\n",
       "      <td>1.0</td>\n",
       "      <td>0</td>\n",
       "    </tr>\n",
       "    <tr>\n",
       "      <th>80083</th>\n",
       "      <td>43.0</td>\n",
       "      <td>33.0</td>\n",
       "      <td>43.0</td>\n",
       "      <td>0.0</td>\n",
       "      <td>0.0</td>\n",
       "      <td>0.0</td>\n",
       "      <td>78.0</td>\n",
       "      <td>32.0</td>\n",
       "      <td>142.0</td>\n",
       "      <td>0</td>\n",
       "    </tr>\n",
       "    <tr>\n",
       "      <th>157178</th>\n",
       "      <td>0.0</td>\n",
       "      <td>0.0</td>\n",
       "      <td>1.0</td>\n",
       "      <td>0.0</td>\n",
       "      <td>1.0</td>\n",
       "      <td>1.0</td>\n",
       "      <td>1.0</td>\n",
       "      <td>0.0</td>\n",
       "      <td>0.0</td>\n",
       "      <td>1</td>\n",
       "    </tr>\n",
       "    <tr>\n",
       "      <th>83933</th>\n",
       "      <td>6.0</td>\n",
       "      <td>153.0</td>\n",
       "      <td>12.0</td>\n",
       "      <td>0.0</td>\n",
       "      <td>0.0</td>\n",
       "      <td>0.0</td>\n",
       "      <td>0.0</td>\n",
       "      <td>0.0</td>\n",
       "      <td>1.0</td>\n",
       "      <td>0</td>\n",
       "    </tr>\n",
       "    <tr>\n",
       "      <th>51264</th>\n",
       "      <td>0.0</td>\n",
       "      <td>0.0</td>\n",
       "      <td>0.0</td>\n",
       "      <td>4.0</td>\n",
       "      <td>6.0</td>\n",
       "      <td>0.0</td>\n",
       "      <td>0.0</td>\n",
       "      <td>0.0</td>\n",
       "      <td>0.0</td>\n",
       "      <td>0</td>\n",
       "    </tr>\n",
       "    <tr>\n",
       "      <th>116820</th>\n",
       "      <td>2.0</td>\n",
       "      <td>8.0</td>\n",
       "      <td>0.0</td>\n",
       "      <td>0.0</td>\n",
       "      <td>1.0</td>\n",
       "      <td>0.0</td>\n",
       "      <td>0.0</td>\n",
       "      <td>8.0</td>\n",
       "      <td>1.0</td>\n",
       "      <td>0</td>\n",
       "    </tr>\n",
       "    <tr>\n",
       "      <th>25508</th>\n",
       "      <td>30.0</td>\n",
       "      <td>22.0</td>\n",
       "      <td>8.0</td>\n",
       "      <td>14.0</td>\n",
       "      <td>1.0</td>\n",
       "      <td>15.0</td>\n",
       "      <td>6.0</td>\n",
       "      <td>0.0</td>\n",
       "      <td>0.0</td>\n",
       "      <td>0</td>\n",
       "    </tr>\n",
       "    <tr>\n",
       "      <th>134166</th>\n",
       "      <td>1.0</td>\n",
       "      <td>4.0</td>\n",
       "      <td>0.0</td>\n",
       "      <td>0.0</td>\n",
       "      <td>7.0</td>\n",
       "      <td>11.0</td>\n",
       "      <td>11.0</td>\n",
       "      <td>0.0</td>\n",
       "      <td>0.0</td>\n",
       "      <td>0</td>\n",
       "    </tr>\n",
       "  </tbody>\n",
       "</table>\n",
       "</div>"
      ],
      "text/plain": [
       "        interval1  interval2  interval3  interval4  interval5  interval6  \\\n",
       "34658        11.0        1.0        3.0        1.0        1.0        1.0   \n",
       "161040        0.0        0.0        1.0        0.0        3.0        6.0   \n",
       "87283         0.0        0.0        0.0        0.0        0.0        0.0   \n",
       "14321         0.0        1.0        0.0        0.0        2.0        0.0   \n",
       "70719         1.0        1.0        1.0        0.0        0.0        0.0   \n",
       "110665        0.0        0.0        1.0        0.0        2.0        0.0   \n",
       "212454        0.0        1.0        0.0        4.0        0.0        5.0   \n",
       "183862        2.0        2.0        1.0        0.0        1.0        1.0   \n",
       "80083        43.0       33.0       43.0        0.0        0.0        0.0   \n",
       "157178        0.0        0.0        1.0        0.0        1.0        1.0   \n",
       "83933         6.0      153.0       12.0        0.0        0.0        0.0   \n",
       "51264         0.0        0.0        0.0        4.0        6.0        0.0   \n",
       "116820        2.0        8.0        0.0        0.0        1.0        0.0   \n",
       "25508        30.0       22.0        8.0       14.0        1.0       15.0   \n",
       "134166        1.0        4.0        0.0        0.0        7.0       11.0   \n",
       "\n",
       "        interval7  interval8  interval9  target  \n",
       "34658         3.0        1.0        0.0       0  \n",
       "161040        1.0        1.0        1.0       0  \n",
       "87283         1.0        0.0        0.0       0  \n",
       "14321         1.0        0.0        0.0       0  \n",
       "70719         0.0       11.0       10.0       0  \n",
       "110665        8.0        0.0       73.0       0  \n",
       "212454        0.0        9.0       11.0       0  \n",
       "183862        1.0        3.0        1.0       0  \n",
       "80083        78.0       32.0      142.0       0  \n",
       "157178        1.0        0.0        0.0       1  \n",
       "83933         0.0        0.0        1.0       0  \n",
       "51264         0.0        0.0        0.0       0  \n",
       "116820        0.0        8.0        1.0       0  \n",
       "25508         6.0        0.0        0.0       0  \n",
       "134166       11.0        0.0        0.0       0  "
      ]
     },
     "execution_count": 83,
     "metadata": {},
     "output_type": "execute_result"
    }
   ],
   "source": [
    "data_time_diff.sample(15)"
   ]
  },
  {
   "cell_type": "code",
   "execution_count": 84,
   "metadata": {},
   "outputs": [],
   "source": [
    "data_time_diff=data_time_diff.drop('target',1)"
   ]
  },
  {
   "cell_type": "code",
   "execution_count": 15,
   "metadata": {},
   "outputs": [],
   "source": [
    "data_time_diff['interval_std']=round(data_time_diff.std(axis=1),2)"
   ]
  },
  {
   "cell_type": "code",
   "execution_count": 16,
   "metadata": {},
   "outputs": [],
   "source": [
    "data_time_diff['interval_std']=data_time_diff['interval_std'].fillna(0)"
   ]
  },
  {
   "cell_type": "code",
   "execution_count": 17,
   "metadata": {},
   "outputs": [],
   "source": [
    "session_length=[]\n",
    "for i in range(data_time.shape[0]):\n",
    "    time_start=data_time.iloc[i].min()\n",
    "    time_end=data_time.iloc[i].max()\n",
    "    time=(time_end-time_start).total_seconds()\n",
    "    session_length.append(time)"
   ]
  },
  {
   "cell_type": "code",
   "execution_count": 18,
   "metadata": {},
   "outputs": [],
   "source": [
    "data_time_diff['session_length']=session_length"
   ]
  },
  {
   "cell_type": "code",
   "execution_count": 19,
   "metadata": {},
   "outputs": [],
   "source": [
    "data_time_diff['target']=data['target']"
   ]
  },
  {
   "cell_type": "code",
   "execution_count": 31,
   "metadata": {},
   "outputs": [
    {
     "data": {
      "text/html": [
       "<div>\n",
       "<style scoped>\n",
       "    .dataframe tbody tr th:only-of-type {\n",
       "        vertical-align: middle;\n",
       "    }\n",
       "\n",
       "    .dataframe tbody tr th {\n",
       "        vertical-align: top;\n",
       "    }\n",
       "\n",
       "    .dataframe thead th {\n",
       "        text-align: right;\n",
       "    }\n",
       "</style>\n",
       "<table border=\"1\" class=\"dataframe\">\n",
       "  <thead>\n",
       "    <tr style=\"text-align: right;\">\n",
       "      <th></th>\n",
       "      <th>interval1</th>\n",
       "      <th>interval2</th>\n",
       "      <th>interval3</th>\n",
       "      <th>interval4</th>\n",
       "      <th>interval5</th>\n",
       "      <th>interval6</th>\n",
       "      <th>interval7</th>\n",
       "      <th>interval8</th>\n",
       "      <th>interval9</th>\n",
       "      <th>interval_std</th>\n",
       "      <th>session_length</th>\n",
       "      <th>target</th>\n",
       "    </tr>\n",
       "  </thead>\n",
       "  <tbody>\n",
       "    <tr>\n",
       "      <th>115913</th>\n",
       "      <td>105.0</td>\n",
       "      <td>0.0</td>\n",
       "      <td>2.0</td>\n",
       "      <td>0.0</td>\n",
       "      <td>7.0</td>\n",
       "      <td>61.0</td>\n",
       "      <td>10.0</td>\n",
       "      <td>0.0</td>\n",
       "      <td>1.0</td>\n",
       "      <td>37.18</td>\n",
       "      <td>186.0</td>\n",
       "      <td>0</td>\n",
       "    </tr>\n",
       "    <tr>\n",
       "      <th>94507</th>\n",
       "      <td>0.0</td>\n",
       "      <td>1.0</td>\n",
       "      <td>1.0</td>\n",
       "      <td>0.0</td>\n",
       "      <td>1.0</td>\n",
       "      <td>0.0</td>\n",
       "      <td>0.0</td>\n",
       "      <td>0.0</td>\n",
       "      <td>0.0</td>\n",
       "      <td>0.50</td>\n",
       "      <td>3.0</td>\n",
       "      <td>1</td>\n",
       "    </tr>\n",
       "    <tr>\n",
       "      <th>43289</th>\n",
       "      <td>0.0</td>\n",
       "      <td>0.0</td>\n",
       "      <td>15.0</td>\n",
       "      <td>1.0</td>\n",
       "      <td>4.0</td>\n",
       "      <td>1.0</td>\n",
       "      <td>0.0</td>\n",
       "      <td>1.0</td>\n",
       "      <td>10.0</td>\n",
       "      <td>5.36</td>\n",
       "      <td>32.0</td>\n",
       "      <td>0</td>\n",
       "    </tr>\n",
       "    <tr>\n",
       "      <th>225912</th>\n",
       "      <td>2.0</td>\n",
       "      <td>1.0</td>\n",
       "      <td>0.0</td>\n",
       "      <td>0.0</td>\n",
       "      <td>1.0</td>\n",
       "      <td>0.0</td>\n",
       "      <td>2.0</td>\n",
       "      <td>0.0</td>\n",
       "      <td>1.0</td>\n",
       "      <td>0.83</td>\n",
       "      <td>7.0</td>\n",
       "      <td>0</td>\n",
       "    </tr>\n",
       "    <tr>\n",
       "      <th>102201</th>\n",
       "      <td>NaN</td>\n",
       "      <td>NaN</td>\n",
       "      <td>NaN</td>\n",
       "      <td>NaN</td>\n",
       "      <td>NaN</td>\n",
       "      <td>NaN</td>\n",
       "      <td>NaN</td>\n",
       "      <td>NaN</td>\n",
       "      <td>NaN</td>\n",
       "      <td>0.00</td>\n",
       "      <td>0.0</td>\n",
       "      <td>0</td>\n",
       "    </tr>\n",
       "    <tr>\n",
       "      <th>183264</th>\n",
       "      <td>0.0</td>\n",
       "      <td>1.0</td>\n",
       "      <td>2.0</td>\n",
       "      <td>0.0</td>\n",
       "      <td>1.0</td>\n",
       "      <td>1.0</td>\n",
       "      <td>1.0</td>\n",
       "      <td>0.0</td>\n",
       "      <td>0.0</td>\n",
       "      <td>0.71</td>\n",
       "      <td>6.0</td>\n",
       "      <td>0</td>\n",
       "    </tr>\n",
       "    <tr>\n",
       "      <th>52429</th>\n",
       "      <td>9.0</td>\n",
       "      <td>10.0</td>\n",
       "      <td>5.0</td>\n",
       "      <td>6.0</td>\n",
       "      <td>1.0</td>\n",
       "      <td>3.0</td>\n",
       "      <td>1.0</td>\n",
       "      <td>0.0</td>\n",
       "      <td>5.0</td>\n",
       "      <td>3.54</td>\n",
       "      <td>40.0</td>\n",
       "      <td>0</td>\n",
       "    </tr>\n",
       "    <tr>\n",
       "      <th>164826</th>\n",
       "      <td>1.0</td>\n",
       "      <td>1.0</td>\n",
       "      <td>32.0</td>\n",
       "      <td>5.0</td>\n",
       "      <td>1.0</td>\n",
       "      <td>1.0</td>\n",
       "      <td>0.0</td>\n",
       "      <td>1.0</td>\n",
       "      <td>0.0</td>\n",
       "      <td>10.36</td>\n",
       "      <td>42.0</td>\n",
       "      <td>0</td>\n",
       "    </tr>\n",
       "    <tr>\n",
       "      <th>174173</th>\n",
       "      <td>0.0</td>\n",
       "      <td>0.0</td>\n",
       "      <td>0.0</td>\n",
       "      <td>52.0</td>\n",
       "      <td>0.0</td>\n",
       "      <td>2.0</td>\n",
       "      <td>1.0</td>\n",
       "      <td>1.0</td>\n",
       "      <td>1.0</td>\n",
       "      <td>17.14</td>\n",
       "      <td>57.0</td>\n",
       "      <td>0</td>\n",
       "    </tr>\n",
       "    <tr>\n",
       "      <th>95884</th>\n",
       "      <td>2.0</td>\n",
       "      <td>1.0</td>\n",
       "      <td>4.0</td>\n",
       "      <td>1.0</td>\n",
       "      <td>2.0</td>\n",
       "      <td>1.0</td>\n",
       "      <td>0.0</td>\n",
       "      <td>2.0</td>\n",
       "      <td>2.0</td>\n",
       "      <td>1.12</td>\n",
       "      <td>15.0</td>\n",
       "      <td>0</td>\n",
       "    </tr>\n",
       "    <tr>\n",
       "      <th>67223</th>\n",
       "      <td>2.0</td>\n",
       "      <td>2.0</td>\n",
       "      <td>4.0</td>\n",
       "      <td>3.0</td>\n",
       "      <td>1.0</td>\n",
       "      <td>1.0</td>\n",
       "      <td>3.0</td>\n",
       "      <td>2.0</td>\n",
       "      <td>30.0</td>\n",
       "      <td>9.30</td>\n",
       "      <td>48.0</td>\n",
       "      <td>0</td>\n",
       "    </tr>\n",
       "    <tr>\n",
       "      <th>76823</th>\n",
       "      <td>0.0</td>\n",
       "      <td>3.0</td>\n",
       "      <td>2.0</td>\n",
       "      <td>1.0</td>\n",
       "      <td>0.0</td>\n",
       "      <td>18.0</td>\n",
       "      <td>0.0</td>\n",
       "      <td>0.0</td>\n",
       "      <td>9.0</td>\n",
       "      <td>6.10</td>\n",
       "      <td>33.0</td>\n",
       "      <td>0</td>\n",
       "    </tr>\n",
       "    <tr>\n",
       "      <th>147101</th>\n",
       "      <td>5.0</td>\n",
       "      <td>2.0</td>\n",
       "      <td>18.0</td>\n",
       "      <td>5.0</td>\n",
       "      <td>5.0</td>\n",
       "      <td>2.0</td>\n",
       "      <td>14.0</td>\n",
       "      <td>4.0</td>\n",
       "      <td>5.0</td>\n",
       "      <td>5.52</td>\n",
       "      <td>60.0</td>\n",
       "      <td>0</td>\n",
       "    </tr>\n",
       "    <tr>\n",
       "      <th>104574</th>\n",
       "      <td>1.0</td>\n",
       "      <td>0.0</td>\n",
       "      <td>1.0</td>\n",
       "      <td>1.0</td>\n",
       "      <td>2.0</td>\n",
       "      <td>0.0</td>\n",
       "      <td>826.0</td>\n",
       "      <td>0.0</td>\n",
       "      <td>3.0</td>\n",
       "      <td>275.00</td>\n",
       "      <td>834.0</td>\n",
       "      <td>0</td>\n",
       "    </tr>\n",
       "    <tr>\n",
       "      <th>189434</th>\n",
       "      <td>16.0</td>\n",
       "      <td>0.0</td>\n",
       "      <td>0.0</td>\n",
       "      <td>0.0</td>\n",
       "      <td>0.0</td>\n",
       "      <td>1.0</td>\n",
       "      <td>0.0</td>\n",
       "      <td>1.0</td>\n",
       "      <td>0.0</td>\n",
       "      <td>5.27</td>\n",
       "      <td>18.0</td>\n",
       "      <td>0</td>\n",
       "    </tr>\n",
       "  </tbody>\n",
       "</table>\n",
       "</div>"
      ],
      "text/plain": [
       "        interval1  interval2  interval3  interval4  interval5  interval6  \\\n",
       "115913      105.0        0.0        2.0        0.0        7.0       61.0   \n",
       "94507         0.0        1.0        1.0        0.0        1.0        0.0   \n",
       "43289         0.0        0.0       15.0        1.0        4.0        1.0   \n",
       "225912        2.0        1.0        0.0        0.0        1.0        0.0   \n",
       "102201        NaN        NaN        NaN        NaN        NaN        NaN   \n",
       "183264        0.0        1.0        2.0        0.0        1.0        1.0   \n",
       "52429         9.0       10.0        5.0        6.0        1.0        3.0   \n",
       "164826        1.0        1.0       32.0        5.0        1.0        1.0   \n",
       "174173        0.0        0.0        0.0       52.0        0.0        2.0   \n",
       "95884         2.0        1.0        4.0        1.0        2.0        1.0   \n",
       "67223         2.0        2.0        4.0        3.0        1.0        1.0   \n",
       "76823         0.0        3.0        2.0        1.0        0.0       18.0   \n",
       "147101        5.0        2.0       18.0        5.0        5.0        2.0   \n",
       "104574        1.0        0.0        1.0        1.0        2.0        0.0   \n",
       "189434       16.0        0.0        0.0        0.0        0.0        1.0   \n",
       "\n",
       "        interval7  interval8  interval9  interval_std  session_length  target  \n",
       "115913       10.0        0.0        1.0         37.18           186.0       0  \n",
       "94507         0.0        0.0        0.0          0.50             3.0       1  \n",
       "43289         0.0        1.0       10.0          5.36            32.0       0  \n",
       "225912        2.0        0.0        1.0          0.83             7.0       0  \n",
       "102201        NaN        NaN        NaN          0.00             0.0       0  \n",
       "183264        1.0        0.0        0.0          0.71             6.0       0  \n",
       "52429         1.0        0.0        5.0          3.54            40.0       0  \n",
       "164826        0.0        1.0        0.0         10.36            42.0       0  \n",
       "174173        1.0        1.0        1.0         17.14            57.0       0  \n",
       "95884         0.0        2.0        2.0          1.12            15.0       0  \n",
       "67223         3.0        2.0       30.0          9.30            48.0       0  \n",
       "76823         0.0        0.0        9.0          6.10            33.0       0  \n",
       "147101       14.0        4.0        5.0          5.52            60.0       0  \n",
       "104574      826.0        0.0        3.0        275.00           834.0       0  \n",
       "189434        0.0        1.0        0.0          5.27            18.0       0  "
      ]
     },
     "execution_count": 31,
     "metadata": {},
     "output_type": "execute_result"
    }
   ],
   "source": [
    "data_time_diff.sample(15)"
   ]
  },
  {
   "cell_type": "code",
   "execution_count": 21,
   "metadata": {},
   "outputs": [],
   "source": [
    "data_time_diff['interval_std']=data_time_diff['interval_std'].fillna(0)"
   ]
  },
  {
   "cell_type": "code",
   "execution_count": 117,
   "metadata": {},
   "outputs": [
    {
     "name": "stdout",
     "output_type": "stream",
     "text": [
      "Robot mean std of intervals: 11.147078798432673\n"
     ]
    }
   ],
   "source": [
    "robot_mean_std=data_time_diff['interval_std'][data_time_diff['target']==1].mean()\n",
    "print ('Robot mean std of intervals: '+str(robot_mean_std))"
   ]
  },
  {
   "cell_type": "code",
   "execution_count": 118,
   "metadata": {},
   "outputs": [
    {
     "name": "stdout",
     "output_type": "stream",
     "text": [
      "User mean std of intervals: 31.703506152904886\n"
     ]
    }
   ],
   "source": [
    "user_mean_std=data_time_diff['interval_std'][data_time_diff['target']==0].mean()\n",
    "print ('User mean std of intervals: '+str(user_mean_std))"
   ]
  },
  {
   "cell_type": "code",
   "execution_count": 32,
   "metadata": {},
   "outputs": [
    {
     "name": "stdout",
     "output_type": "stream",
     "text": [
      "Robot mean session length: 52.29647366129734\n"
     ]
    }
   ],
   "source": [
    "robot_mean_session=data_time_diff['session_length'][data_time_diff['target']==1].mean()\n",
    "print ('Robot mean session length: '+str(robot_mean_session))"
   ]
  },
  {
   "cell_type": "code",
   "execution_count": 33,
   "metadata": {},
   "outputs": [
    {
     "name": "stdout",
     "output_type": "stream",
     "text": [
      "User mean session length: 139.28237232552215\n"
     ]
    }
   ],
   "source": [
    "user_mean_session=data_time_diff['session_length'][data_time_diff['target']==0].mean()\n",
    "print ('User mean session length: '+str(user_mean_session))"
   ]
  },
  {
   "cell_type": "code",
   "execution_count": 34,
   "metadata": {},
   "outputs": [
    {
     "data": {
      "text/plain": [
       "Text(0.5, 1.0, 'Session length')"
      ]
     },
     "execution_count": 34,
     "metadata": {},
     "output_type": "execute_result"
    },
    {
     "data": {
      "image/png": "[encoded data removed]",
      "text/plain": [
       "<Figure size 432x432 with 1 Axes>"
      ]
     },
     "metadata": {
      "needs_background": "light"
     },
     "output_type": "display_data"
    }
   ],
   "source": [
    "plt.figure(figsize=(6,6))\n",
    "ax = sns.boxplot(x = 'target', y = 'session_length', data = data_time_diff)\n",
    "ax.set(ylim=(-10, 250))\n",
    "ax.set_xticklabels(['user','robot'])\n",
    "plt.title(\"Session length\")"
   ]
  },
  {
   "cell_type": "code",
   "execution_count": 210,
   "metadata": {},
   "outputs": [
    {
     "data": {
      "text/plain": [
       "Text(0.5, 1.0, 'Interval standard deviation')"
      ]
     },
     "execution_count": 210,
     "metadata": {},
     "output_type": "execute_result"
    },
    {
     "data": {
      "image/png": "[encoded data removed]",
      "text/plain": [
       "<Figure size 432x432 with 1 Axes>"
      ]
     },
     "metadata": {
      "needs_background": "light"
     },
     "output_type": "display_data"
    }
   ],
   "source": [
    "plt.figure(figsize=(6,6))\n",
    "ax = sns.boxplot(x = 'target', y = 'interval_std', data = data_time_diff)\n",
    "ax.set(ylim=(-10, 60))\n",
    "ax.set_xticklabels(['user','robot'])\n",
    "plt.title(\"Interval standard deviation\")"
   ]
  },
  {
   "cell_type": "code",
   "execution_count": 36,
   "metadata": {},
   "outputs": [
    {
     "data": {
      "text/html": [
       "<div>\n",
       "<style scoped>\n",
       "    .dataframe tbody tr th:only-of-type {\n",
       "        vertical-align: middle;\n",
       "    }\n",
       "\n",
       "    .dataframe tbody tr th {\n",
       "        vertical-align: top;\n",
       "    }\n",
       "\n",
       "    .dataframe thead th {\n",
       "        text-align: right;\n",
       "    }\n",
       "</style>\n",
       "<table border=\"1\" class=\"dataframe\">\n",
       "  <thead>\n",
       "    <tr style=\"text-align: right;\">\n",
       "      <th></th>\n",
       "      <th>site1</th>\n",
       "      <th>site2</th>\n",
       "      <th>site3</th>\n",
       "      <th>site4</th>\n",
       "      <th>site5</th>\n",
       "      <th>site6</th>\n",
       "      <th>site7</th>\n",
       "      <th>site8</th>\n",
       "      <th>site9</th>\n",
       "      <th>site10</th>\n",
       "    </tr>\n",
       "  </thead>\n",
       "  <tbody>\n",
       "    <tr>\n",
       "      <th>246542</th>\n",
       "      <td>pianku.xmp.kankan.com</td>\n",
       "      <td>img.xmp.kankan.kanimg.com</td>\n",
       "      <td>img.xmp.kankan.kanimg.com</td>\n",
       "      <td>img2.kankan.kanimg.com</td>\n",
       "      <td>pianku.xmp.kankan.com</td>\n",
       "      <td>img.xmp.kankan.kanimg.com</td>\n",
       "      <td>img2.kankan.kanimg.com</td>\n",
       "      <td>img.xmp.kankan.kanimg.com</td>\n",
       "      <td>images.client.xunlei.com</td>\n",
       "      <td>pianku.xmp.kankan.com</td>\n",
       "    </tr>\n",
       "    <tr>\n",
       "      <th>218034</th>\n",
       "      <td>www.goal.com</td>\n",
       "      <td>www.goal.com</td>\n",
       "      <td>www.goal.com</td>\n",
       "      <td>connect.facebook.net</td>\n",
       "      <td>comments.us1.gigya.com</td>\n",
       "      <td>cdns.gigya.com</td>\n",
       "      <td>www.facebook.com</td>\n",
       "      <td>s-static.ak.facebook.com</td>\n",
       "      <td>apis.google.com</td>\n",
       "      <td>clients1.google.fr</td>\n",
       "    </tr>\n",
       "    <tr>\n",
       "      <th>66646</th>\n",
       "      <td>login.yahoo.com</td>\n",
       "      <td>login.yahoo.com</td>\n",
       "      <td>login.yahoo.com</td>\n",
       "      <td>login.yahoo.com</td>\n",
       "      <td>login.yahoo.com</td>\n",
       "      <td>fr-mg42.mail.yahoo.com</td>\n",
       "      <td>fr-mg42.mail.yahoo.com</td>\n",
       "      <td>ucs.query.yahoo.com</td>\n",
       "      <td>ucs.query.yahoo.com</td>\n",
       "      <td>fr-mg42.mail.yahoo.com</td>\n",
       "    </tr>\n",
       "    <tr>\n",
       "      <th>85862</th>\n",
       "      <td>gtssl-ocsp.geotrust.com</td>\n",
       "      <td>clients1.google.com</td>\n",
       "      <td>gtglobal-ocsp.geotrust.com</td>\n",
       "      <td>ba.commentcamarche.net</td>\n",
       "      <td>r.ccm2.net</td>\n",
       "      <td>www.google.fr</td>\n",
       "      <td>static.commentcamarche.net</td>\n",
       "      <td>clients1.google.com</td>\n",
       "      <td>www.commentcamarche.net</td>\n",
       "      <td>static.ccm2.net</td>\n",
       "    </tr>\n",
       "    <tr>\n",
       "      <th>74466</th>\n",
       "      <td>static.ak.facebook.com</td>\n",
       "      <td>www.facebook.com</td>\n",
       "      <td>fr.msn.com</td>\n",
       "      <td>login.live.com</td>\n",
       "      <td>s-static.ak.facebook.com</td>\n",
       "      <td>img2.video.s-msn.com</td>\n",
       "      <td>byfiles.storage.msn.com</td>\n",
       "      <td>img1.video.s-msn.com</td>\n",
       "      <td>hub.video.msn.com</td>\n",
       "      <td>img2.video.s-msn.com</td>\n",
       "    </tr>\n",
       "    <tr>\n",
       "      <th>241168</th>\n",
       "      <td>stackoverflow.com</td>\n",
       "      <td>cdn-careers.sstatic.net</td>\n",
       "      <td>stackoverflow.com</td>\n",
       "      <td>ocsp.digicert.com</td>\n",
       "      <td>cdn-careers.sstatic.net</td>\n",
       "      <td>careers.stackoverflow.com</td>\n",
       "      <td>ocsp.verisign.com</td>\n",
       "      <td>adzerk-www.s3.amazonaws.com</td>\n",
       "      <td>stackauth.com</td>\n",
       "      <td>www.gravatar.com</td>\n",
       "    </tr>\n",
       "    <tr>\n",
       "      <th>235281</th>\n",
       "      <td>thumb10.shutterstock.com</td>\n",
       "      <td>thumb7.shutterstock.com</td>\n",
       "      <td>stocklogos.com</td>\n",
       "      <td>www.facebook.com</td>\n",
       "      <td>www.brandsoftheworld.com</td>\n",
       "      <td>www.facebook.com</td>\n",
       "      <td>platform.twitter.com</td>\n",
       "      <td>maps.googleapis.com</td>\n",
       "      <td>www.shutterstock.com</td>\n",
       "      <td>www.brandsoftheworld.com</td>\n",
       "    </tr>\n",
       "  </tbody>\n",
       "</table>\n",
       "</div>"
      ],
      "text/plain": [
       "                           site1                      site2  \\\n",
       "246542     pianku.xmp.kankan.com  img.xmp.kankan.kanimg.com   \n",
       "218034              www.goal.com               www.goal.com   \n",
       "66646            login.yahoo.com            login.yahoo.com   \n",
       "85862    gtssl-ocsp.geotrust.com        clients1.google.com   \n",
       "74466     static.ak.facebook.com           www.facebook.com   \n",
       "241168         stackoverflow.com    cdn-careers.sstatic.net   \n",
       "235281  thumb10.shutterstock.com    thumb7.shutterstock.com   \n",
       "\n",
       "                             site3                   site4  \\\n",
       "246542   img.xmp.kankan.kanimg.com  img2.kankan.kanimg.com   \n",
       "218034                www.goal.com    connect.facebook.net   \n",
       "66646              login.yahoo.com         login.yahoo.com   \n",
       "85862   gtglobal-ocsp.geotrust.com  ba.commentcamarche.net   \n",
       "74466                   fr.msn.com          login.live.com   \n",
       "241168           stackoverflow.com       ocsp.digicert.com   \n",
       "235281              stocklogos.com        www.facebook.com   \n",
       "\n",
       "                           site5                      site6  \\\n",
       "246542     pianku.xmp.kankan.com  img.xmp.kankan.kanimg.com   \n",
       "218034    comments.us1.gigya.com             cdns.gigya.com   \n",
       "66646            login.yahoo.com     fr-mg42.mail.yahoo.com   \n",
       "85862                 r.ccm2.net              www.google.fr   \n",
       "74466   s-static.ak.facebook.com       img2.video.s-msn.com   \n",
       "241168   cdn-careers.sstatic.net  careers.stackoverflow.com   \n",
       "235281  www.brandsoftheworld.com           www.facebook.com   \n",
       "\n",
       "                             site7                        site8  \\\n",
       "246542      img2.kankan.kanimg.com    img.xmp.kankan.kanimg.com   \n",
       "218034            www.facebook.com     s-static.ak.facebook.com   \n",
       "66646       fr-mg42.mail.yahoo.com          ucs.query.yahoo.com   \n",
       "85862   static.commentcamarche.net          clients1.google.com   \n",
       "74466      byfiles.storage.msn.com         img1.video.s-msn.com   \n",
       "241168           ocsp.verisign.com  adzerk-www.s3.amazonaws.com   \n",
       "235281        platform.twitter.com          maps.googleapis.com   \n",
       "\n",
       "                           site9                    site10  \n",
       "246542  images.client.xunlei.com     pianku.xmp.kankan.com  \n",
       "218034           apis.google.com        clients1.google.fr  \n",
       "66646        ucs.query.yahoo.com    fr-mg42.mail.yahoo.com  \n",
       "85862    www.commentcamarche.net           static.ccm2.net  \n",
       "74466          hub.video.msn.com      img2.video.s-msn.com  \n",
       "241168             stackauth.com          www.gravatar.com  \n",
       "235281      www.shutterstock.com  www.brandsoftheworld.com  "
      ]
     },
     "execution_count": 36,
     "metadata": {},
     "output_type": "execute_result"
    }
   ],
   "source": [
    "data_sites  =  data[sites] \n",
    "data_sites.sample(7)"
   ]
  },
  {
   "cell_type": "code",
   "execution_count": 108,
   "metadata": {},
   "outputs": [
    {
     "data": {
      "text/html": [
       "<div>\n",
       "<style scoped>\n",
       "    .dataframe tbody tr th:only-of-type {\n",
       "        vertical-align: middle;\n",
       "    }\n",
       "\n",
       "    .dataframe tbody tr th {\n",
       "        vertical-align: top;\n",
       "    }\n",
       "\n",
       "    .dataframe thead th {\n",
       "        text-align: right;\n",
       "    }\n",
       "</style>\n",
       "<table border=\"1\" class=\"dataframe\">\n",
       "  <thead>\n",
       "    <tr style=\"text-align: right;\">\n",
       "      <th></th>\n",
       "      <th>site1</th>\n",
       "      <th>site2</th>\n",
       "      <th>site3</th>\n",
       "      <th>site4</th>\n",
       "      <th>site5</th>\n",
       "      <th>site6</th>\n",
       "      <th>site7</th>\n",
       "      <th>site8</th>\n",
       "      <th>site9</th>\n",
       "      <th>site10</th>\n",
       "      <th>target</th>\n",
       "    </tr>\n",
       "  </thead>\n",
       "  <tbody>\n",
       "    <tr>\n",
       "      <th>155882</th>\n",
       "      <td>static.ak.facebook.com</td>\n",
       "      <td>asset.email-match.com</td>\n",
       "      <td>www.be2.fr</td>\n",
       "      <td>s-static.ak.facebook.com</td>\n",
       "      <td>youwatch.org</td>\n",
       "      <td>app.be2.fr</td>\n",
       "      <td>img.be2.com</td>\n",
       "      <td>www.be2.fr</td>\n",
       "      <td>www.facebook.com</td>\n",
       "      <td>www.audienceinsights.net</td>\n",
       "      <td>1</td>\n",
       "    </tr>\n",
       "    <tr>\n",
       "      <th>241788</th>\n",
       "      <td>s.youtube.com</td>\n",
       "      <td>r4---sn-gxo5uxg-jqbe.googlevideo.com</td>\n",
       "      <td>r4---sn-gxo5uxg-jqbe.googlevideo.com</td>\n",
       "      <td>s.youtube.com</td>\n",
       "      <td>www.google.com</td>\n",
       "      <td>s.ytimg.com</td>\n",
       "      <td>i1.ytimg.com</td>\n",
       "      <td>www.youtube.com</td>\n",
       "      <td>clients1.google.com</td>\n",
       "      <td>i1.ytimg.com</td>\n",
       "      <td>1</td>\n",
       "    </tr>\n",
       "    <tr>\n",
       "      <th>201194</th>\n",
       "      <td>connect.facebook.net</td>\n",
       "      <td>s-static.ak.facebook.com</td>\n",
       "      <td>static.ak.facebook.com</td>\n",
       "      <td>www.audienceinsights.net</td>\n",
       "      <td>ada.brucelead.com</td>\n",
       "      <td>a.ad-sys.com</td>\n",
       "      <td>www.facebook.com</td>\n",
       "      <td>deliv.leboncoin.fr</td>\n",
       "      <td>www.audienceinsights.net</td>\n",
       "      <td>retargeting.veoxa.com</td>\n",
       "      <td>1</td>\n",
       "    </tr>\n",
       "    <tr>\n",
       "      <th>182685</th>\n",
       "      <td>static.cbox.ws</td>\n",
       "      <td>www.youtube.com</td>\n",
       "      <td>nayariverasource.com</td>\n",
       "      <td>static.cbox.ws</td>\n",
       "      <td>s.ytimg.com</td>\n",
       "      <td>i1.ytimg.com</td>\n",
       "      <td>nayariverasource.com</td>\n",
       "      <td>i1.ytimg.com</td>\n",
       "      <td>www.youtube.com</td>\n",
       "      <td>www.youtube.com</td>\n",
       "      <td>1</td>\n",
       "    </tr>\n",
       "    <tr>\n",
       "      <th>45849</th>\n",
       "      <td>193.164.196.30</td>\n",
       "      <td>193.164.197.60</td>\n",
       "      <td>193.164.197.30</td>\n",
       "      <td>deliv.leboncoin.fr</td>\n",
       "      <td>193.164.197.40</td>\n",
       "      <td>www.leboncoin.fr</td>\n",
       "      <td>static.leboncoin.fr</td>\n",
       "      <td>193.164.196.60</td>\n",
       "      <td>deliv.leboncoin.fr</td>\n",
       "      <td>193.164.197.50</td>\n",
       "      <td>1</td>\n",
       "    </tr>\n",
       "    <tr>\n",
       "      <th>31968</th>\n",
       "      <td>s.youtube.com</td>\n",
       "      <td>i1.ytimg.com</td>\n",
       "      <td>i1.ytimg.com</td>\n",
       "      <td>i1.ytimg.com</td>\n",
       "      <td>i1.ytimg.com</td>\n",
       "      <td>www.dailymotion.com</td>\n",
       "      <td>i1.ytimg.com</td>\n",
       "      <td>www.youtube.com</td>\n",
       "      <td>www.dailymotion.com</td>\n",
       "      <td>s.youtube.com</td>\n",
       "      <td>1</td>\n",
       "    </tr>\n",
       "    <tr>\n",
       "      <th>244638</th>\n",
       "      <td>www.youtube.com</td>\n",
       "      <td>r4---sn-gxo5uxg-jqbe.googlevideo.com</td>\n",
       "      <td>s.youtube.com</td>\n",
       "      <td>i1.ytimg.com</td>\n",
       "      <td>r4---sn-gxo5uxg-jqbe.googlevideo.com</td>\n",
       "      <td>lh4.ggpht.com</td>\n",
       "      <td>www.youtube.com</td>\n",
       "      <td>r4---sn-gxo5uxg-jqbe.googlevideo.com</td>\n",
       "      <td>www.youtube.com</td>\n",
       "      <td>s.youtube.com</td>\n",
       "      <td>1</td>\n",
       "    </tr>\n",
       "  </tbody>\n",
       "</table>\n",
       "</div>"
      ],
      "text/plain": [
       "                         site1                                 site2  \\\n",
       "155882  static.ak.facebook.com                 asset.email-match.com   \n",
       "241788           s.youtube.com  r4---sn-gxo5uxg-jqbe.googlevideo.com   \n",
       "201194    connect.facebook.net              s-static.ak.facebook.com   \n",
       "182685          static.cbox.ws                       www.youtube.com   \n",
       "45849           193.164.196.30                        193.164.197.60   \n",
       "31968            s.youtube.com                          i1.ytimg.com   \n",
       "244638         www.youtube.com  r4---sn-gxo5uxg-jqbe.googlevideo.com   \n",
       "\n",
       "                                       site3                     site4  \\\n",
       "155882                            www.be2.fr  s-static.ak.facebook.com   \n",
       "241788  r4---sn-gxo5uxg-jqbe.googlevideo.com             s.youtube.com   \n",
       "201194                static.ak.facebook.com  www.audienceinsights.net   \n",
       "182685                  nayariverasource.com            static.cbox.ws   \n",
       "45849                         193.164.197.30        deliv.leboncoin.fr   \n",
       "31968                           i1.ytimg.com              i1.ytimg.com   \n",
       "244638                         s.youtube.com              i1.ytimg.com   \n",
       "\n",
       "                                       site5                site6  \\\n",
       "155882                          youwatch.org           app.be2.fr   \n",
       "241788                        www.google.com          s.ytimg.com   \n",
       "201194                     ada.brucelead.com         a.ad-sys.com   \n",
       "182685                           s.ytimg.com         i1.ytimg.com   \n",
       "45849                         193.164.197.40     www.leboncoin.fr   \n",
       "31968                           i1.ytimg.com  www.dailymotion.com   \n",
       "244638  r4---sn-gxo5uxg-jqbe.googlevideo.com        lh4.ggpht.com   \n",
       "\n",
       "                       site7                                 site8  \\\n",
       "155882           img.be2.com                            www.be2.fr   \n",
       "241788          i1.ytimg.com                       www.youtube.com   \n",
       "201194      www.facebook.com                    deliv.leboncoin.fr   \n",
       "182685  nayariverasource.com                          i1.ytimg.com   \n",
       "45849    static.leboncoin.fr                        193.164.196.60   \n",
       "31968           i1.ytimg.com                       www.youtube.com   \n",
       "244638       www.youtube.com  r4---sn-gxo5uxg-jqbe.googlevideo.com   \n",
       "\n",
       "                           site9                    site10  target  \n",
       "155882          www.facebook.com  www.audienceinsights.net       1  \n",
       "241788       clients1.google.com              i1.ytimg.com       1  \n",
       "201194  www.audienceinsights.net     retargeting.veoxa.com       1  \n",
       "182685           www.youtube.com           www.youtube.com       1  \n",
       "45849         deliv.leboncoin.fr            193.164.197.50       1  \n",
       "31968        www.dailymotion.com             s.youtube.com       1  \n",
       "244638           www.youtube.com             s.youtube.com       1  "
      ]
     },
     "execution_count": 108,
     "metadata": {},
     "output_type": "execute_result"
    }
   ],
   "source": [
    "data_sites[data_sites.target==1].sample(7)"
   ]
  },
  {
   "cell_type": "markdown",
   "metadata": {},
   "source": [
    "__Counting the number of unique sites visited during one session:__"
   ]
  },
  {
   "cell_type": "code",
   "execution_count": 37,
   "metadata": {},
   "outputs": [],
   "source": [
    "data_sites['unique_sites']=data_sites.nunique(axis=1,dropna=True)a"
   ]
  },
  {
   "cell_type": "code",
   "execution_count": 44,
   "metadata": {},
   "outputs": [],
   "source": [
    "data_sites['target']=data['target']"
   ]
  },
  {
   "cell_type": "code",
   "execution_count": 45,
   "metadata": {},
   "outputs": [
    {
     "name": "stdout",
     "output_type": "stream",
     "text": [
      "Robot mean unique number of websites for one session: 6.109272964736613\n"
     ]
    }
   ],
   "source": [
    "robot_unique_sites=data_sites['unique_sites'][data_sites['target']==1].mean()\n",
    "print ('Robot mean unique number of websites for one session: '+str(robot_unique_sites))"
   ]
  },
  {
   "cell_type": "code",
   "execution_count": 46,
   "metadata": {},
   "outputs": [
    {
     "name": "stdout",
     "output_type": "stream",
     "text": [
      "User mean unique number of websites for one session: 5.63408606087621\n"
     ]
    }
   ],
   "source": [
    "user_unique_sites=data_sites['unique_sites'][data_sites['target']==0].mean()\n",
    "print ('User mean unique number of websites for one session: '+str(user_unique_sites))"
   ]
  },
  {
   "cell_type": "code",
   "execution_count": 47,
   "metadata": {},
   "outputs": [
    {
     "data": {
      "text/plain": [
       "Text(0.5, 0, 'User unique sites per session')"
      ]
     },
     "execution_count": 47,
     "metadata": {},
     "output_type": "execute_result"
    },
    {
     "data": {
      "image/png": "[encoded data removed]",
      "text/plain": [
       "<Figure size 864x432 with 2 Axes>"
      ]
     },
     "metadata": {
      "needs_background": "light"
     },
     "output_type": "display_data"
    }
   ],
   "source": [
    "plt.subplots(1,2, figsize = (12, 6)) \n",
    "\n",
    "plt.subplot(1, 2, 1)\n",
    "sns.countplot(data_sites['unique_sites'][data_sites['target']==1]) \n",
    "plt.xlabel('Robot unique sites per session')\n",
    "          \n",
    "plt.subplot(1, 2, 2)\n",
    "sns.countplot(data_sites['unique_sites'][data_sites['target']==0]) \n",
    "plt.xlabel('User unique sites per session')\n"
   ]
  },
  {
   "cell_type": "markdown",
   "metadata": {},
   "source": [
    "__Counting the number of digits and dashes in one session:__"
   ]
  },
  {
   "cell_type": "code",
   "execution_count": 38,
   "metadata": {},
   "outputs": [],
   "source": [
    "data_sites=data_sites.fillna('none')"
   ]
  },
  {
   "cell_type": "code",
   "execution_count": 39,
   "metadata": {},
   "outputs": [],
   "source": [
    "data_sites['names']=data_sites.drop(['unique_sites'],1).apply(lambda x: ''.join(x), axis=1)"
   ]
  },
  {
   "cell_type": "code",
   "execution_count": 40,
   "metadata": {},
   "outputs": [],
   "source": [
    "data_sites['dashes']=data_sites['names'].apply(lambda x : x.count('-'))"
   ]
  },
  {
   "cell_type": "code",
   "execution_count": 41,
   "metadata": {},
   "outputs": [],
   "source": [
    "data_sites['digits']=data_sites['names'].apply(lambda x : x.count('\\d'))"
   ]
  },
  {
   "cell_type": "code",
   "execution_count": 42,
   "metadata": {},
   "outputs": [],
   "source": [
    "data_sites['dashes_digits']=data_sites['digits']+data_sites['dashes']"
   ]
  },
  {
   "cell_type": "code",
   "execution_count": 57,
   "metadata": {},
   "outputs": [
    {
     "data": {
      "text/plain": [
       "Text(0.5, 1.0, 'Number of digits and dashes in websites names')"
      ]
     },
     "execution_count": 57,
     "metadata": {},
     "output_type": "execute_result"
    },
    {
     "data": {
      "image/png": "[encoded data removed]",
      "text/plain": [
       "<Figure size 432x432 with 1 Axes>"
      ]
     },
     "metadata": {
      "needs_background": "light"
     },
     "output_type": "display_data"
    }
   ],
   "source": [
    "plt.figure(figsize=(6,6))\n",
    "ax = sns.boxplot(x = 'target', y = 'dashes_digits', data = data_sites)\n",
    "ax.set(ylim=(-5, 30))\n",
    "ax.set_xticklabels(['user','robot'])\n",
    "plt.title(\"Number of digits and dashes in websites' names\")"
   ]
  },
  {
   "cell_type": "markdown",
   "metadata": {},
   "source": [
    "# Feature engineering based on EDA"
   ]
  },
  {
   "cell_type": "code",
   "execution_count": 58,
   "metadata": {},
   "outputs": [
    {
     "data": {
      "text/plain": [
       "Index(['interval1', 'interval2', 'interval3', 'interval4', 'interval5',\n",
       "       'interval6', 'interval7', 'interval8', 'interval9', 'interval_std',\n",
       "       'session_lenght'],\n",
       "      dtype='object')"
      ]
     },
     "execution_count": 58,
     "metadata": {},
     "output_type": "execute_result"
    }
   ],
   "source": [
    "data_time_diff.columns"
   ]
  },
  {
   "cell_type": "code",
   "execution_count": 63,
   "metadata": {},
   "outputs": [],
   "source": [
    "data_ml=data_time_diff[['interval_std','session_length']]"
   ]
  },
  {
   "cell_type": "code",
   "execution_count": 64,
   "metadata": {},
   "outputs": [],
   "source": [
    "start_hour=data_time.time1.apply(lambda x:x.hour).tolist()"
   ]
  },
  {
   "cell_type": "code",
   "execution_count": 65,
   "metadata": {},
   "outputs": [],
   "source": [
    "data_ml['daytime']=start_hour"
   ]
  },
  {
   "cell_type": "code",
   "execution_count": 66,
   "metadata": {},
   "outputs": [],
   "source": [
    "data_ml['daytime']=np.where((data_ml['daytime']>=7)&(data_ml['daytime']<12),'morning',\n",
    "                             (np.where((data_ml['daytime']>=12)&(data_ml['daytime']<16),'afternoon',\n",
    "                             (np.where((data_ml['daytime']>=16)&(data_ml['daytime']<=20),'evening','night')))))"
   ]
  },
  {
   "cell_type": "code",
   "execution_count": 67,
   "metadata": {},
   "outputs": [],
   "source": [
    "start_weekday=data_time.time1.apply(lambda x:x.dayofweek).tolist()"
   ]
  },
  {
   "cell_type": "code",
   "execution_count": 68,
   "metadata": {},
   "outputs": [],
   "source": [
    "data_ml['weekday']=start_weekday"
   ]
  },
  {
   "cell_type": "code",
   "execution_count": 69,
   "metadata": {},
   "outputs": [],
   "source": [
    "rename_dict=dict(zip(range(8),calendar.day_name[0:8]))"
   ]
  },
  {
   "cell_type": "code",
   "execution_count": 70,
   "metadata": {},
   "outputs": [],
   "source": [
    "data_ml['weekday']=data_ml['weekday'].replace(rename_dict)"
   ]
  },
  {
   "cell_type": "code",
   "execution_count": 71,
   "metadata": {},
   "outputs": [],
   "source": [
    "start_month=data_time.time1.apply(lambda x:x.month).tolist()"
   ]
  },
  {
   "cell_type": "code",
   "execution_count": 72,
   "metadata": {},
   "outputs": [],
   "source": [
    "data_ml['month']=start_month"
   ]
  },
  {
   "cell_type": "code",
   "execution_count": 73,
   "metadata": {},
   "outputs": [],
   "source": [
    "rename_dict_month=dict(zip(range(1,13),calendar.month_name[1:13]))"
   ]
  },
  {
   "cell_type": "code",
   "execution_count": 74,
   "metadata": {},
   "outputs": [],
   "source": [
    "data_ml['month']=data_ml['month'].replace(rename_dict_month)"
   ]
  },
  {
   "cell_type": "code",
   "execution_count": 75,
   "metadata": {},
   "outputs": [
    {
     "data": {
      "text/html": [
       "<div>\n",
       "<style scoped>\n",
       "    .dataframe tbody tr th:only-of-type {\n",
       "        vertical-align: middle;\n",
       "    }\n",
       "\n",
       "    .dataframe tbody tr th {\n",
       "        vertical-align: top;\n",
       "    }\n",
       "\n",
       "    .dataframe thead th {\n",
       "        text-align: right;\n",
       "    }\n",
       "</style>\n",
       "<table border=\"1\" class=\"dataframe\">\n",
       "  <thead>\n",
       "    <tr style=\"text-align: right;\">\n",
       "      <th></th>\n",
       "      <th>interval_std</th>\n",
       "      <th>session_length</th>\n",
       "      <th>daytime</th>\n",
       "      <th>weekday</th>\n",
       "      <th>month</th>\n",
       "    </tr>\n",
       "  </thead>\n",
       "  <tbody>\n",
       "    <tr>\n",
       "      <th>0</th>\n",
       "      <td>0.00</td>\n",
       "      <td>0.0</td>\n",
       "      <td>morning</td>\n",
       "      <td>Thursday</td>\n",
       "      <td>February</td>\n",
       "    </tr>\n",
       "    <tr>\n",
       "      <th>1</th>\n",
       "      <td>7.56</td>\n",
       "      <td>26.0</td>\n",
       "      <td>morning</td>\n",
       "      <td>Saturday</td>\n",
       "      <td>February</td>\n",
       "    </tr>\n",
       "    <tr>\n",
       "      <th>2</th>\n",
       "      <td>0.67</td>\n",
       "      <td>7.0</td>\n",
       "      <td>evening</td>\n",
       "      <td>Monday</td>\n",
       "      <td>December</td>\n",
       "    </tr>\n",
       "    <tr>\n",
       "      <th>3</th>\n",
       "      <td>0.00</td>\n",
       "      <td>270.0</td>\n",
       "      <td>morning</td>\n",
       "      <td>Friday</td>\n",
       "      <td>March</td>\n",
       "    </tr>\n",
       "    <tr>\n",
       "      <th>4</th>\n",
       "      <td>47.24</td>\n",
       "      <td>246.0</td>\n",
       "      <td>morning</td>\n",
       "      <td>Friday</td>\n",
       "      <td>February</td>\n",
       "    </tr>\n",
       "  </tbody>\n",
       "</table>\n",
       "</div>"
      ],
      "text/plain": [
       "   interval_std  session_length  daytime   weekday     month\n",
       "0          0.00             0.0  morning  Thursday  February\n",
       "1          7.56            26.0  morning  Saturday  February\n",
       "2          0.67             7.0  evening    Monday  December\n",
       "3          0.00           270.0  morning    Friday     March\n",
       "4         47.24           246.0  morning    Friday  February"
      ]
     },
     "execution_count": 75,
     "metadata": {},
     "output_type": "execute_result"
    }
   ],
   "source": [
    "data_ml.head()"
   ]
  },
  {
   "cell_type": "markdown",
   "metadata": {},
   "source": [
    "__One Hot Encoding of categorical features:__"
   ]
  },
  {
   "cell_type": "code",
   "execution_count": 76,
   "metadata": {},
   "outputs": [],
   "source": [
    "data_ml=pd.get_dummies(data_ml)"
   ]
  },
  {
   "cell_type": "code",
   "execution_count": 77,
   "metadata": {},
   "outputs": [
    {
     "data": {
      "text/html": [
       "<div>\n",
       "<style scoped>\n",
       "    .dataframe tbody tr th:only-of-type {\n",
       "        vertical-align: middle;\n",
       "    }\n",
       "\n",
       "    .dataframe tbody tr th {\n",
       "        vertical-align: top;\n",
       "    }\n",
       "\n",
       "    .dataframe thead th {\n",
       "        text-align: right;\n",
       "    }\n",
       "</style>\n",
       "<table border=\"1\" class=\"dataframe\">\n",
       "  <thead>\n",
       "    <tr style=\"text-align: right;\">\n",
       "      <th></th>\n",
       "      <th>interval_std</th>\n",
       "      <th>session_length</th>\n",
       "      <th>daytime_afternoon</th>\n",
       "      <th>daytime_evening</th>\n",
       "      <th>daytime_morning</th>\n",
       "      <th>daytime_night</th>\n",
       "      <th>weekday_Friday</th>\n",
       "      <th>weekday_Monday</th>\n",
       "      <th>weekday_Saturday</th>\n",
       "      <th>weekday_Sunday</th>\n",
       "      <th>...</th>\n",
       "      <th>month_December</th>\n",
       "      <th>month_February</th>\n",
       "      <th>month_January</th>\n",
       "      <th>month_July</th>\n",
       "      <th>month_June</th>\n",
       "      <th>month_March</th>\n",
       "      <th>month_May</th>\n",
       "      <th>month_November</th>\n",
       "      <th>month_October</th>\n",
       "      <th>month_September</th>\n",
       "    </tr>\n",
       "  </thead>\n",
       "  <tbody>\n",
       "    <tr>\n",
       "      <th>0</th>\n",
       "      <td>0.00</td>\n",
       "      <td>0.0</td>\n",
       "      <td>0</td>\n",
       "      <td>0</td>\n",
       "      <td>1</td>\n",
       "      <td>0</td>\n",
       "      <td>0</td>\n",
       "      <td>0</td>\n",
       "      <td>0</td>\n",
       "      <td>0</td>\n",
       "      <td>...</td>\n",
       "      <td>0</td>\n",
       "      <td>1</td>\n",
       "      <td>0</td>\n",
       "      <td>0</td>\n",
       "      <td>0</td>\n",
       "      <td>0</td>\n",
       "      <td>0</td>\n",
       "      <td>0</td>\n",
       "      <td>0</td>\n",
       "      <td>0</td>\n",
       "    </tr>\n",
       "    <tr>\n",
       "      <th>1</th>\n",
       "      <td>7.56</td>\n",
       "      <td>26.0</td>\n",
       "      <td>0</td>\n",
       "      <td>0</td>\n",
       "      <td>1</td>\n",
       "      <td>0</td>\n",
       "      <td>0</td>\n",
       "      <td>0</td>\n",
       "      <td>1</td>\n",
       "      <td>0</td>\n",
       "      <td>...</td>\n",
       "      <td>0</td>\n",
       "      <td>1</td>\n",
       "      <td>0</td>\n",
       "      <td>0</td>\n",
       "      <td>0</td>\n",
       "      <td>0</td>\n",
       "      <td>0</td>\n",
       "      <td>0</td>\n",
       "      <td>0</td>\n",
       "      <td>0</td>\n",
       "    </tr>\n",
       "    <tr>\n",
       "      <th>2</th>\n",
       "      <td>0.67</td>\n",
       "      <td>7.0</td>\n",
       "      <td>0</td>\n",
       "      <td>1</td>\n",
       "      <td>0</td>\n",
       "      <td>0</td>\n",
       "      <td>0</td>\n",
       "      <td>1</td>\n",
       "      <td>0</td>\n",
       "      <td>0</td>\n",
       "      <td>...</td>\n",
       "      <td>1</td>\n",
       "      <td>0</td>\n",
       "      <td>0</td>\n",
       "      <td>0</td>\n",
       "      <td>0</td>\n",
       "      <td>0</td>\n",
       "      <td>0</td>\n",
       "      <td>0</td>\n",
       "      <td>0</td>\n",
       "      <td>0</td>\n",
       "    </tr>\n",
       "    <tr>\n",
       "      <th>3</th>\n",
       "      <td>0.00</td>\n",
       "      <td>270.0</td>\n",
       "      <td>0</td>\n",
       "      <td>0</td>\n",
       "      <td>1</td>\n",
       "      <td>0</td>\n",
       "      <td>1</td>\n",
       "      <td>0</td>\n",
       "      <td>0</td>\n",
       "      <td>0</td>\n",
       "      <td>...</td>\n",
       "      <td>0</td>\n",
       "      <td>0</td>\n",
       "      <td>0</td>\n",
       "      <td>0</td>\n",
       "      <td>0</td>\n",
       "      <td>1</td>\n",
       "      <td>0</td>\n",
       "      <td>0</td>\n",
       "      <td>0</td>\n",
       "      <td>0</td>\n",
       "    </tr>\n",
       "    <tr>\n",
       "      <th>4</th>\n",
       "      <td>47.24</td>\n",
       "      <td>246.0</td>\n",
       "      <td>0</td>\n",
       "      <td>0</td>\n",
       "      <td>1</td>\n",
       "      <td>0</td>\n",
       "      <td>1</td>\n",
       "      <td>0</td>\n",
       "      <td>0</td>\n",
       "      <td>0</td>\n",
       "      <td>...</td>\n",
       "      <td>0</td>\n",
       "      <td>1</td>\n",
       "      <td>0</td>\n",
       "      <td>0</td>\n",
       "      <td>0</td>\n",
       "      <td>0</td>\n",
       "      <td>0</td>\n",
       "      <td>0</td>\n",
       "      <td>0</td>\n",
       "      <td>0</td>\n",
       "    </tr>\n",
       "  </tbody>\n",
       "</table>\n",
       "<p>5 rows × 25 columns</p>\n",
       "</div>"
      ],
      "text/plain": [
       "   interval_std  session_length  daytime_afternoon  daytime_evening  \\\n",
       "0          0.00             0.0                  0                0   \n",
       "1          7.56            26.0                  0                0   \n",
       "2          0.67             7.0                  0                1   \n",
       "3          0.00           270.0                  0                0   \n",
       "4         47.24           246.0                  0                0   \n",
       "\n",
       "   daytime_morning  daytime_night  weekday_Friday  weekday_Monday  \\\n",
       "0                1              0               0               0   \n",
       "1                1              0               0               0   \n",
       "2                0              0               0               1   \n",
       "3                1              0               1               0   \n",
       "4                1              0               1               0   \n",
       "\n",
       "   weekday_Saturday  weekday_Sunday  ...  month_December  month_February  \\\n",
       "0                 0               0  ...               0               1   \n",
       "1                 1               0  ...               0               1   \n",
       "2                 0               0  ...               1               0   \n",
       "3                 0               0  ...               0               0   \n",
       "4                 0               0  ...               0               1   \n",
       "\n",
       "   month_January  month_July  month_June  month_March  month_May  \\\n",
       "0              0           0           0            0          0   \n",
       "1              0           0           0            0          0   \n",
       "2              0           0           0            0          0   \n",
       "3              0           0           0            1          0   \n",
       "4              0           0           0            0          0   \n",
       "\n",
       "   month_November  month_October  month_September  \n",
       "0               0              0                0  \n",
       "1               0              0                0  \n",
       "2               0              0                0  \n",
       "3               0              0                0  \n",
       "4               0              0                0  \n",
       "\n",
       "[5 rows x 25 columns]"
      ]
     },
     "execution_count": 77,
     "metadata": {},
     "output_type": "execute_result"
    }
   ],
   "source": [
    "data_ml.head()"
   ]
  },
  {
   "cell_type": "code",
   "execution_count": 78,
   "metadata": {},
   "outputs": [],
   "source": [
    "data_ml['unique_sites']=data_sites['unique_sites']"
   ]
  },
  {
   "cell_type": "code",
   "execution_count": 79,
   "metadata": {},
   "outputs": [],
   "source": [
    "data_ml['dashes_digits']=data_sites['dashes_digits']"
   ]
  },
  {
   "cell_type": "code",
   "execution_count": 80,
   "metadata": {},
   "outputs": [],
   "source": [
    "data_ml['target']=data['target']"
   ]
  },
  {
   "cell_type": "code",
   "execution_count": 82,
   "metadata": {},
   "outputs": [
    {
     "data": {
      "text/plain": [
       "Index(['interval_std', 'session_length', 'daytime_afternoon',\n",
       "       'daytime_evening', 'daytime_morning', 'daytime_night', 'weekday_Friday',\n",
       "       'weekday_Monday', 'weekday_Saturday', 'weekday_Sunday',\n",
       "       'weekday_Thursday', 'weekday_Tuesday', 'weekday_Wednesday',\n",
       "       'month_April', 'month_August', 'month_December', 'month_February',\n",
       "       'month_January', 'month_July', 'month_June', 'month_March', 'month_May',\n",
       "       'month_November', 'month_October', 'month_September', 'unique_sites',\n",
       "       'dashes_digits', 'target'],\n",
       "      dtype='object')"
      ]
     },
     "execution_count": 82,
     "metadata": {},
     "output_type": "execute_result"
    }
   ],
   "source": [
    "data_ml.columns"
   ]
  },
  {
   "cell_type": "code",
   "execution_count": 83,
   "metadata": {},
   "outputs": [],
   "source": [
    "data_ml=data_ml[['target','interval_std', 'session_length','unique_sites', 'dashes_digits','daytime_afternoon',\n",
    "       'daytime_evening', 'daytime_morning', 'daytime_night', 'weekday_Friday',\n",
    "       'weekday_Monday', 'weekday_Saturday', 'weekday_Sunday',\n",
    "       'weekday_Thursday', 'weekday_Tuesday', 'weekday_Wednesday',\n",
    "       'month_April', 'month_August', 'month_December', 'month_February',\n",
    "       'month_January', 'month_July', 'month_June', 'month_March', 'month_May',\n",
    "       'month_November', 'month_October', 'month_September']]"
   ]
  },
  {
   "cell_type": "code",
   "execution_count": 109,
   "metadata": {},
   "outputs": [
    {
     "data": {
      "text/plain": [
       "(253561, 28)"
      ]
     },
     "execution_count": 109,
     "metadata": {},
     "output_type": "execute_result"
    }
   ],
   "source": [
    "data_ml.shape"
   ]
  },
  {
   "cell_type": "code",
   "execution_count": 84,
   "metadata": {},
   "outputs": [
    {
     "data": {
      "text/html": [
       "<div>\n",
       "<style scoped>\n",
       "    .dataframe tbody tr th:only-of-type {\n",
       "        vertical-align: middle;\n",
       "    }\n",
       "\n",
       "    .dataframe tbody tr th {\n",
       "        vertical-align: top;\n",
       "    }\n",
       "\n",
       "    .dataframe thead th {\n",
       "        text-align: right;\n",
       "    }\n",
       "</style>\n",
       "<table border=\"1\" class=\"dataframe\">\n",
       "  <thead>\n",
       "    <tr style=\"text-align: right;\">\n",
       "      <th></th>\n",
       "      <th>target</th>\n",
       "      <th>interval_std</th>\n",
       "      <th>session_length</th>\n",
       "      <th>unique_sites</th>\n",
       "      <th>dashes_digits</th>\n",
       "      <th>daytime_afternoon</th>\n",
       "      <th>daytime_evening</th>\n",
       "      <th>daytime_morning</th>\n",
       "      <th>daytime_night</th>\n",
       "      <th>weekday_Friday</th>\n",
       "      <th>...</th>\n",
       "      <th>month_December</th>\n",
       "      <th>month_February</th>\n",
       "      <th>month_January</th>\n",
       "      <th>month_July</th>\n",
       "      <th>month_June</th>\n",
       "      <th>month_March</th>\n",
       "      <th>month_May</th>\n",
       "      <th>month_November</th>\n",
       "      <th>month_October</th>\n",
       "      <th>month_September</th>\n",
       "    </tr>\n",
       "  </thead>\n",
       "  <tbody>\n",
       "    <tr>\n",
       "      <th>196006</th>\n",
       "      <td>0</td>\n",
       "      <td>1.92</td>\n",
       "      <td>16.0</td>\n",
       "      <td>5</td>\n",
       "      <td>3</td>\n",
       "      <td>1</td>\n",
       "      <td>0</td>\n",
       "      <td>0</td>\n",
       "      <td>0</td>\n",
       "      <td>0</td>\n",
       "      <td>...</td>\n",
       "      <td>0</td>\n",
       "      <td>0</td>\n",
       "      <td>0</td>\n",
       "      <td>0</td>\n",
       "      <td>0</td>\n",
       "      <td>0</td>\n",
       "      <td>0</td>\n",
       "      <td>0</td>\n",
       "      <td>0</td>\n",
       "      <td>0</td>\n",
       "    </tr>\n",
       "    <tr>\n",
       "      <th>20456</th>\n",
       "      <td>1</td>\n",
       "      <td>0.44</td>\n",
       "      <td>2.0</td>\n",
       "      <td>6</td>\n",
       "      <td>10</td>\n",
       "      <td>0</td>\n",
       "      <td>1</td>\n",
       "      <td>0</td>\n",
       "      <td>0</td>\n",
       "      <td>0</td>\n",
       "      <td>...</td>\n",
       "      <td>0</td>\n",
       "      <td>0</td>\n",
       "      <td>0</td>\n",
       "      <td>0</td>\n",
       "      <td>0</td>\n",
       "      <td>0</td>\n",
       "      <td>0</td>\n",
       "      <td>0</td>\n",
       "      <td>0</td>\n",
       "      <td>1</td>\n",
       "    </tr>\n",
       "    <tr>\n",
       "      <th>118666</th>\n",
       "      <td>0</td>\n",
       "      <td>3.36</td>\n",
       "      <td>22.0</td>\n",
       "      <td>5</td>\n",
       "      <td>1</td>\n",
       "      <td>0</td>\n",
       "      <td>0</td>\n",
       "      <td>1</td>\n",
       "      <td>0</td>\n",
       "      <td>0</td>\n",
       "      <td>...</td>\n",
       "      <td>0</td>\n",
       "      <td>0</td>\n",
       "      <td>0</td>\n",
       "      <td>0</td>\n",
       "      <td>0</td>\n",
       "      <td>0</td>\n",
       "      <td>0</td>\n",
       "      <td>0</td>\n",
       "      <td>0</td>\n",
       "      <td>0</td>\n",
       "    </tr>\n",
       "    <tr>\n",
       "      <th>191546</th>\n",
       "      <td>0</td>\n",
       "      <td>4.39</td>\n",
       "      <td>23.0</td>\n",
       "      <td>5</td>\n",
       "      <td>0</td>\n",
       "      <td>0</td>\n",
       "      <td>0</td>\n",
       "      <td>1</td>\n",
       "      <td>0</td>\n",
       "      <td>0</td>\n",
       "      <td>...</td>\n",
       "      <td>0</td>\n",
       "      <td>0</td>\n",
       "      <td>0</td>\n",
       "      <td>0</td>\n",
       "      <td>0</td>\n",
       "      <td>0</td>\n",
       "      <td>0</td>\n",
       "      <td>0</td>\n",
       "      <td>1</td>\n",
       "      <td>0</td>\n",
       "    </tr>\n",
       "    <tr>\n",
       "      <th>74394</th>\n",
       "      <td>0</td>\n",
       "      <td>86.17</td>\n",
       "      <td>274.0</td>\n",
       "      <td>7</td>\n",
       "      <td>1</td>\n",
       "      <td>0</td>\n",
       "      <td>0</td>\n",
       "      <td>1</td>\n",
       "      <td>0</td>\n",
       "      <td>1</td>\n",
       "      <td>...</td>\n",
       "      <td>0</td>\n",
       "      <td>0</td>\n",
       "      <td>0</td>\n",
       "      <td>0</td>\n",
       "      <td>0</td>\n",
       "      <td>0</td>\n",
       "      <td>0</td>\n",
       "      <td>1</td>\n",
       "      <td>0</td>\n",
       "      <td>0</td>\n",
       "    </tr>\n",
       "    <tr>\n",
       "      <th>246173</th>\n",
       "      <td>0</td>\n",
       "      <td>0.00</td>\n",
       "      <td>3.0</td>\n",
       "      <td>3</td>\n",
       "      <td>0</td>\n",
       "      <td>1</td>\n",
       "      <td>0</td>\n",
       "      <td>0</td>\n",
       "      <td>0</td>\n",
       "      <td>0</td>\n",
       "      <td>...</td>\n",
       "      <td>0</td>\n",
       "      <td>0</td>\n",
       "      <td>0</td>\n",
       "      <td>0</td>\n",
       "      <td>0</td>\n",
       "      <td>0</td>\n",
       "      <td>0</td>\n",
       "      <td>0</td>\n",
       "      <td>0</td>\n",
       "      <td>0</td>\n",
       "    </tr>\n",
       "    <tr>\n",
       "      <th>153387</th>\n",
       "      <td>0</td>\n",
       "      <td>15.33</td>\n",
       "      <td>94.0</td>\n",
       "      <td>7</td>\n",
       "      <td>0</td>\n",
       "      <td>0</td>\n",
       "      <td>0</td>\n",
       "      <td>1</td>\n",
       "      <td>0</td>\n",
       "      <td>0</td>\n",
       "      <td>...</td>\n",
       "      <td>0</td>\n",
       "      <td>1</td>\n",
       "      <td>0</td>\n",
       "      <td>0</td>\n",
       "      <td>0</td>\n",
       "      <td>0</td>\n",
       "      <td>0</td>\n",
       "      <td>0</td>\n",
       "      <td>0</td>\n",
       "      <td>0</td>\n",
       "    </tr>\n",
       "  </tbody>\n",
       "</table>\n",
       "<p>7 rows × 28 columns</p>\n",
       "</div>"
      ],
      "text/plain": [
       "        target  interval_std  session_length  unique_sites  dashes_digits  \\\n",
       "196006       0          1.92            16.0             5              3   \n",
       "20456        1          0.44             2.0             6             10   \n",
       "118666       0          3.36            22.0             5              1   \n",
       "191546       0          4.39            23.0             5              0   \n",
       "74394        0         86.17           274.0             7              1   \n",
       "246173       0          0.00             3.0             3              0   \n",
       "153387       0         15.33            94.0             7              0   \n",
       "\n",
       "        daytime_afternoon  daytime_evening  daytime_morning  daytime_night  \\\n",
       "196006                  1                0                0              0   \n",
       "20456                   0                1                0              0   \n",
       "118666                  0                0                1              0   \n",
       "191546                  0                0                1              0   \n",
       "74394                   0                0                1              0   \n",
       "246173                  1                0                0              0   \n",
       "153387                  0                0                1              0   \n",
       "\n",
       "        weekday_Friday  ...  month_December  month_February  month_January  \\\n",
       "196006               0  ...               0               0              0   \n",
       "20456                0  ...               0               0              0   \n",
       "118666               0  ...               0               0              0   \n",
       "191546               0  ...               0               0              0   \n",
       "74394                1  ...               0               0              0   \n",
       "246173               0  ...               0               0              0   \n",
       "153387               0  ...               0               1              0   \n",
       "\n",
       "        month_July  month_June  month_March  month_May  month_November  \\\n",
       "196006           0           0            0          0               0   \n",
       "20456            0           0            0          0               0   \n",
       "118666           0           0            0          0               0   \n",
       "191546           0           0            0          0               0   \n",
       "74394            0           0            0          0               1   \n",
       "246173           0           0            0          0               0   \n",
       "153387           0           0            0          0               0   \n",
       "\n",
       "        month_October  month_September  \n",
       "196006              0                0  \n",
       "20456               0                1  \n",
       "118666              0                0  \n",
       "191546              1                0  \n",
       "74394               0                0  \n",
       "246173              0                0  \n",
       "153387              0                0  \n",
       "\n",
       "[7 rows x 28 columns]"
      ]
     },
     "execution_count": 84,
     "metadata": {},
     "output_type": "execute_result"
    }
   ],
   "source": [
    "data_ml.sample(7)"
   ]
  },
  {
   "cell_type": "code",
   "execution_count": 100,
   "metadata": {},
   "outputs": [],
   "source": [
    "from sklearn.pipeline import Pipeline, make_pipeline\n",
    "from sklearn.metrics import accuracy_score, confusion_matrix\n",
    "from sklearn.model_selection import train_test_split\n",
    "from sklearn.ensemble import RandomForestClassifier\n",
    "from sklearn.linear_model import LogisticRegression\n",
    "from sklearn.svm import SVC\n",
    "from sklearn.metrics import accuracy_score, confusion_matrix,precision_score,recall_score,f1_score,classification_report"
   ]
  },
  {
   "cell_type": "code",
   "execution_count": 101,
   "metadata": {},
   "outputs": [],
   "source": [
    "X=data_ml.drop('target',1)\n",
    "y=data_ml.target"
   ]
  },
  {
   "cell_type": "code",
   "execution_count": 102,
   "metadata": {},
   "outputs": [],
   "source": [
    "X_train, X_test, y_train, y_test = train_test_split(X, y, test_size=0.3, random_state=123)"
   ]
  },
  {
   "cell_type": "code",
   "execution_count": 103,
   "metadata": {},
   "outputs": [
    {
     "name": "stdout",
     "output_type": "stream",
     "text": [
      "Accuracy score: 0.9907320984895293\n"
     ]
    }
   ],
   "source": [
    "model=RandomForestClassifier()\n",
    "model.fit(X_train, y_train)\n",
    "y_pred = model.predict(X_test)\n",
    "print(f'Accuracy score: {accuracy_score(y_pred,y_test)}')"
   ]
  },
  {
   "cell_type": "code",
   "execution_count": 104,
   "metadata": {},
   "outputs": [
    {
     "data": {
      "image/png": "[encoded data removed]",
      "text/plain": [
       "<Figure size 216x216 with 1 Axes>"
      ]
     },
     "metadata": {
      "needs_background": "light"
     },
     "output_type": "display_data"
    }
   ],
   "source": [
    "confmat=confusion_matrix(y_true=y_test,y_pred=y_pred)\n",
    "fig,ax=plt.subplots(figsize=(3,3))\n",
    "ax.matshow(confmat,cmap=plt.cm.Blues,alpha=0.3)\n",
    "for i in range(confmat.shape[0]):\n",
    "    for j in range(confmat.shape[1]):\n",
    "        ax.text(x=j,y=i,s=confmat[i,j],va='center',ha='center',fontsize=13)\n",
    "plt.xlabel('Predicted label',fontsize=13)\n",
    "plt.ylabel('True label',fontsize=13)\n",
    "plt.show()"
   ]
  },
  {
   "cell_type": "code",
   "execution_count": null,
   "metadata": {},
   "outputs": [],
   "source": []
  }
 ],
 "metadata": {
  "kernelspec": {
   "display_name": "Python 3",
   "language": "python",
   "name": "python3"
  },
  "language_info": {
   "codemirror_mode": {
    "name": "ipython",
    "version": 3
   },
   "file_extension": ".py",
   "mimetype": "text/x-python",
   "name": "python",
   "nbconvert_exporter": "python",
   "pygments_lexer": "ipython3",
   "version": "3.7.3"
  }
 },
 "nbformat": 4,
 "nbformat_minor": 2
}
